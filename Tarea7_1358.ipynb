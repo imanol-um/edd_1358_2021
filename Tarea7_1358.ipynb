{
  "nbformat": 4,
  "nbformat_minor": 0,
  "metadata": {
    "colab": {
      "name": "Tarea7_1358.ipynb",
      "provenance": [],
      "authorship_tag": "ABX9TyOSQTGYR+gCDrat9KLoNVtK",
      "include_colab_link": true
    },
    "kernelspec": {
      "name": "python3",
      "display_name": "Python 3"
    }
  },
  "cells": [
    {
      "cell_type": "markdown",
      "metadata": {
        "id": "view-in-github",
        "colab_type": "text"
      },
      "source": [
        "<a href=\"https://colab.research.google.com/github/imanol-um/edd_1358_2021/blob/master/Tarea7_1358.ipynb\" target=\"_parent\"><img src=\"https://colab.research.google.com/assets/colab-badge.svg\" alt=\"Open In Colab\"/></a>"
      ]
    },
    {
      "cell_type": "code",
      "metadata": {
        "id": "oKZKaITAlsL8"
      },
      "source": [
        "class Stack:\n",
        "    def __init__(self):\n",
        "        self.__data = []\n",
        "        self.__size = 0 \n",
        "    \n",
        "    def pop(self):\n",
        "        return self.__data.pop()\n",
        "    \n",
        "    def peek(self):\n",
        "        return self.__data[-1]\n",
        "\n",
        "    def push(self, value):\n",
        "        self.__data.append(value)\n",
        "\n",
        "    def to_string(self):\n",
        "        print(\"--------\")\n",
        "        for dato in self.__data[:-1]:\n",
        "            print(f\"| {dato} |\")\n",
        "            print(\"--------\")"
      ],
      "execution_count": 36,
      "outputs": []
    },
    {
      "cell_type": "code",
      "metadata": {
        "colab": {
          "base_uri": "https://localhost:8080/"
        },
        "id": "6o53jrLtrT8p",
        "outputId": "c4418070-1405-42f5-a722-42f704a2b1f8"
      },
      "source": [
        "#Aplicaciones de la estructura Stack\n",
        "#1- Validacion de parentesis balanceados '(' '[' y '{'\n",
        "cadena = \"b=3*)(5+(4/2))\"\n",
        "pila = Stack()\n",
        "pila.push(\"#\") #caracter de pila vacia \n",
        "\n",
        "for elem in cadena:\n",
        "    if elem == '(':\n",
        "        pila.push(\"*\")\n",
        "    elif elem == ')':\n",
        "        if pila.peek() == '#':  \n",
        "            pila.push(\"error\")\n",
        "            #Salida opcional para especificar el problema.\n",
        "            #print(f\"Se tiene un ')' de mas o esta mal colocado.\")\n",
        "            pass\n",
        "        else:\n",
        "            pila.pop()\n",
        "    else:\n",
        "        pass\n",
        "\n",
        "if pila.peek() == '#':\n",
        "    print(\"La expresion esta balanceada en parentesis.\")\n",
        "else:\n",
        "    print(\"La expresion no esta balanceada en parentesis.\")"
      ],
      "execution_count": 37,
      "outputs": [
        {
          "output_type": "stream",
          "text": [
            "La expresion no esta balanceada en parentesis.\n"
          ],
          "name": "stdout"
        }
      ]
    }
  ]
}