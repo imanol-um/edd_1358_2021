{
  "nbformat": 4,
  "nbformat_minor": 0,
  "metadata": {
    "colab": {
      "name": "30Septiembre_1358.ipynb",
      "provenance": [],
      "authorship_tag": "ABX9TyPEV1IHG4+tBwcb+f2xwoNl",
      "include_colab_link": true
    },
    "kernelspec": {
      "name": "python3",
      "display_name": "Python 3"
    }
  },
  "cells": [
    {
      "cell_type": "markdown",
      "metadata": {
        "id": "view-in-github",
        "colab_type": "text"
      },
      "source": [
        "<a href=\"https://colab.research.google.com/github/imanol-um/edd_1358_2021/blob/master/30Septiembre_1358.ipynb\" target=\"_parent\"><img src=\"https://colab.research.google.com/assets/colab-badge.svg\" alt=\"Open In Colab\"/></a>"
      ]
    },
    {
      "cell_type": "markdown",
      "metadata": {
        "id": "fU0pdjWFs0Xf"
      },
      "source": [
        "# Fundamentos Python 3\n",
        "### Tipos de datos basicos.\n",
        "edad = 13\n",
        "nombre = \"Imanol\"\n",
        "estatura= 1.67\n",
        "tiene_ine = True\n",
        "### Compuestos\n",
        "\n",
        "#### Listas\n",
        "Son mutables.\n",
        "Se acceden a los elementros via el indice.\n",
        "Los elementos pueden ser de diferente tipo.\n",
        "\n",
        "lista_ejemplo = [\"Manzana\", 1.58, True, ['Rojo', 'Azul']]\n",
        "\n",
        "#### Tuplas\n",
        "Son mutables.\n",
        "Se acceden a los elementros via el indice.\n",
        "Los elementos pueden ser de diferente tipo.\n",
        "tupla_ejemplo = {\"root\", \"1241253\", \"Dios\"}\n",
        "\n",
        "#### Diccionario\n",
        "Son equivalentes a JSON de Java Scrip\n",
        "\n",
        "#### Sets\n",
        "Son datos agrupados\n"
      ]
    },
    {
      "cell_type": "code",
      "metadata": {
        "id": "1u8T6iQPs7Xi",
        "outputId": "594530b0-60d4-4b5c-ad5e-17fca2029e36",
        "colab": {
          "base_uri": "https://localhost:8080/",
          "height": 221
        }
      },
      "source": [
        "lista_ejemplo = [\"Manzana\", 1.58, True, ['Rojo', 'Azul']]\n",
        "print(lista_ejemplo[1])\n",
        "print(lista_ejemplo[3])\n",
        "print(lista_ejemplo[3][1])\n",
        "\n",
        "#Remplezar un elemento\n",
        "lista_ejemplo[0] = \"Mango\"\n",
        "print(lista_ejemplo)\n",
        "\n",
        "#Agregar al final un elemento\n",
        "lista_ejemplo.append(\"Iphone\")\n",
        "print(lista_ejemplo)\n",
        "\n",
        "#Sacar el ultimo elemento.\n",
        "valor = lista_ejemplo.pop()\n",
        "print(valor)\n",
        "print(lista_ejemplo)\n",
        "\n",
        "#Documentacion del tipo de dato lista dir() y help ()\n",
        "#dir(list)\n",
        "#help(lista_ejemplo)\n",
        "print(\"-----------------\")\n",
        "#help(valor)\n",
        "\n",
        "#Agrega un valor a una posicion definida.\n",
        "lista_ejemplo.insert(1,\"Huawei\")\n",
        "print(lista_ejemplo)\n",
        "\n",
        "#Cuenta cuantas veces se encuentra ese valor en la lista\n",
        "conteo = lista_ejemplo.count(True)\n",
        "print(conteo)\n",
        "\n",
        "#meter una lista en otra lista\n",
        "colores = [\"Rosa\",\"Negro\", \"Blanco\"]\n",
        "lista_ejemplo.append(colores)\n",
        "print(lista_ejemplo)\n",
        "#Unir o fusionar dos listas\n",
        "lista_ejemplo.extend(colores)\n",
        "print(lista_ejemplo)"
      ],
      "execution_count": 14,
      "outputs": [
        {
          "output_type": "stream",
          "text": [
            "1.58\n",
            "['Rojo', 'Azul']\n",
            "Azul\n",
            "['Mango', 1.58, True, ['Rojo', 'Azul']]\n",
            "['Mango', 1.58, True, ['Rojo', 'Azul'], 'Iphone']\n",
            "Iphone\n",
            "['Mango', 1.58, True, ['Rojo', 'Azul']]\n",
            "-----------------\n",
            "['Mango', 'Huawei', 1.58, True, ['Rojo', 'Azul']]\n",
            "1\n",
            "['Mango', 'Huawei', 1.58, True, ['Rojo', 'Azul'], ['Rosa', 'Negro', 'Blanco']]\n",
            "['Mango', 'Huawei', 1.58, True, ['Rojo', 'Azul'], ['Rosa', 'Negro', 'Blanco'], 'Rosa', 'Negro', 'Blanco']\n"
          ],
          "name": "stdout"
        }
      ]
    }
  ]
}