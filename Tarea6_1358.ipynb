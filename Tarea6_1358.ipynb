{
  "nbformat": 4,
  "nbformat_minor": 0,
  "metadata": {
    "colab": {
      "name": "Tarea6_1358.ipynb",
      "provenance": [],
      "authorship_tag": "ABX9TyPaZbgtSL8OR1xZoXQbhTL7",
      "include_colab_link": true
    },
    "kernelspec": {
      "name": "python3",
      "display_name": "Python 3"
    }
  },
  "cells": [
    {
      "cell_type": "markdown",
      "metadata": {
        "id": "view-in-github",
        "colab_type": "text"
      },
      "source": [
        "<a href=\"https://colab.research.google.com/github/imanol-um/edd_1358_2021/blob/master/Tarea6_1358.ipynb\" target=\"_parent\"><img src=\"https://colab.research.google.com/assets/colab-badge.svg\" alt=\"Open In Colab\"/></a>"
      ]
    },
    {
      "cell_type": "code",
      "metadata": {
        "id": "564z6xXIGuLP"
      },
      "source": [
        "class NodoCircular:\n",
        "    def __init__(self, value, siguiente = None):\n",
        "        self.data = value\n",
        "        self.next = siguiente\n",
        "\n",
        "class CircularList:\n",
        "    def __init__(self):\n",
        "        self.__ref = None\n",
        "        self.__size = 0\n",
        "    def get_size(self):\n",
        "        return self.__size\n",
        "\n",
        "    def is_empty(self):\n",
        "        return self.__size == 0\n",
        "           \n",
        "    def insert(self, value):\n",
        "        nuevo_nodo = NodoCircular(value)\n",
        "        curr_node = self.__ref  \n",
        "        if self.is_empty():\n",
        "            self.__ref = nuevo_nodo\n",
        "            nuevo_nodo.next = nuevo_nodo\n",
        "            self.__size += 1\n",
        "        elif self.search(value):\n",
        "            pass\n",
        "        elif value > curr_node.data:\n",
        "            self.__ref = nuevo_nodo\n",
        "            nuevo_nodo.next = curr_node.next\n",
        "            curr_node.next = nuevo_nodo\n",
        "            self.__size += 1     \n",
        "        else:\n",
        "            while curr_node.next.data < value:\n",
        "                curr_node = curr_node.next\n",
        "            nuevo_nodo.next = curr_node.next\n",
        "            curr_node.next = nuevo_nodo\n",
        "            self.__size += 1\n",
        "\n",
        "    def transversal(self):\n",
        "        curr_node = self.__ref\n",
        "        if self.is_empty():\n",
        "            print(\"La lista esta vacia.\")\n",
        "        elif curr_node.next == None:\n",
        "            print(f\"{curr_node.data} -->\")\n",
        "        else:\n",
        "            curr_node = curr_node.next \n",
        "            while curr_node != self.__ref:        \n",
        "                print(f\"{curr_node.data} -->\", end=\" \")\n",
        "                if curr_node.next == self.__ref:\n",
        "                    print(f\"{curr_node.next.data}\")\n",
        "                curr_node = curr_node.next \n",
        "        print(\"\")\n",
        "\n",
        "    def search(self, value):\n",
        "        if self.is_empty():\n",
        "            print(\"Ningun valor en una lista vacia.\")  \n",
        "        elif value == self.__ref.data:\n",
        "            return True\n",
        "        else:\n",
        "            curr_node = self.__ref.next\n",
        "            while curr_node != self.__ref:\n",
        "                if value == curr_node.data:\n",
        "                    return True\n",
        "                curr_node = curr_node.next\n",
        "        return False \n",
        "\n",
        "    def remove(self, value):\n",
        "        if self.is_empty():\n",
        "            print(\"Ningun valor en una lista vacia.\") \n",
        "        elif self.search(value):\n",
        "            curr_node = self.__ref\n",
        "            if value == curr_node.data:\n",
        "                while curr_node.next != self.__ref:\n",
        "                    curr_node = curr_node.next\n",
        "                curr_node.next = self.__ref.next\n",
        "                self.__ref = curr_node\n",
        "            else:\n",
        "                while curr_node.next.data != value and curr_node.next != self.__ref:\n",
        "                    curr_node = curr_node.next\n",
        "                if curr_node.next.data == value:\n",
        "                    curr_node.next = curr_node.next.next\n",
        "            self.__size -= 1\n",
        "        else:\n",
        "            pass"
      ],
      "execution_count": 110,
      "outputs": []
    },
    {
      "cell_type": "code",
      "metadata": {
        "colab": {
          "base_uri": "https://localhost:8080/"
        },
        "id": "FdTp9WHLkbpz",
        "outputId": "33eca0fd-d4f4-4ab5-b487-ddb9d14c85cf"
      },
      "source": [
        "listaCircular = CircularList()\n",
        "\n",
        "listaCircular.transversal()\n",
        "listaCircular.insert(20)\n",
        "listaCircular.transversal()\n",
        "print(\"----------\")\n",
        "listaCircular.insert(30)\n",
        "listaCircular.transversal()\n",
        "print(\"----------\")\n",
        "listaCircular.insert(10)\n",
        "listaCircular.transversal()\n",
        "print(\"----------\")\n",
        "print(listaCircular.get_size())\n",
        "print(\"----------\")\n",
        "listaCircular.remove(20)\n",
        "listaCircular.transversal()\n",
        "print(\"----------\")"
      ],
      "execution_count": 111,
      "outputs": [
        {
          "output_type": "stream",
          "text": [
            "La lista esta vacia.\n",
            "\n",
            "\n",
            "----------\n",
            "20 --> 30\n",
            "\n",
            "----------\n",
            "10 --> 20 --> 30\n",
            "\n",
            "----------\n",
            "3\n",
            "----------\n",
            "10 --> 30\n",
            "\n",
            "----------\n"
          ],
          "name": "stdout"
        }
      ]
    }
  ]
}