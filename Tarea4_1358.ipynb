{
  "nbformat": 4,
  "nbformat_minor": 0,
  "metadata": {
    "colab": {
      "name": "Tarea4_1358.ipynb",
      "provenance": [],
      "authorship_tag": "ABX9TyOhvvu/K0P1/2WyFHafEwZc",
      "include_colab_link": true
    },
    "kernelspec": {
      "name": "python3",
      "display_name": "Python 3"
    }
  },
  "cells": [
    {
      "cell_type": "markdown",
      "metadata": {
        "id": "view-in-github",
        "colab_type": "text"
      },
      "source": [
        "<a href=\"https://colab.research.google.com/github/imanol-um/edd_1358_2021/blob/master/Tarea4_1358.ipynb\" target=\"_parent\"><img src=\"https://colab.research.google.com/assets/colab-badge.svg\" alt=\"Open In Colab\"/></a>"
      ]
    },
    {
      "cell_type": "code",
      "metadata": {
        "id": "VVvd78y4DKlY"
      },
      "source": [
        "class Nodo:\n",
        "    def __init__( self , dato , siguiente = None):\n",
        "        self.dato = dato\n",
        "        self.siguiente = siguiente\n",
        "\n",
        "class LinkedList:\n",
        "    def __init__(self):\n",
        "        self.__head = None\n",
        "\n",
        "    def is_empty(self):\n",
        "        return self.__head == None\n",
        "\n",
        "    def tail(self):\n",
        "        curr_node = self.__head\n",
        "\n",
        "        while curr_node != None and curr_node.siguiente != None:\n",
        "            curr_node = curr_node.siguiente\n",
        "        return curr_node\n",
        "\n",
        "    def append(self,value):\n",
        "        nuevo = Nodo(value)\n",
        "        if self.__head == None:\n",
        "            self.__head = nuevo\n",
        "        else:\n",
        "            self.tail().siguiente = nuevo\n",
        "\n",
        "    def prepend(self,value):\n",
        "        nueva_cabeza = Nodo(value)\n",
        "        nueva_cabeza.siguiente = self.__head\n",
        "        self.__head = nueva_cabeza\n",
        "\n",
        "    def transversal (self):\n",
        "        curr_node = self.__head\n",
        "        if curr_node == None:\n",
        "            print(\"Lista vacia.\")\n",
        "        else:\n",
        "            while curr_node != None:\n",
        "                print(f\"{curr_node.dato} -->\", end=\" \")\n",
        "                curr_node = curr_node.siguiente\n",
        "        print(\"\")\n",
        "    def remove(self,value):\n",
        "        curr_node = self.__head\n",
        "        while curr_node != None:\n",
        "            carro = curr_node.siguiente\n",
        "            \n",
        "            if curr_node.siguiente == None:\n",
        "                return print(\"El valor no esta dentro de la lista.\")\n",
        "\n",
        "            if carro.dato == value:\n",
        "                curr_node.siguiente = curr_node.siguiente.siguiente\n",
        "                return self.transversal()\n",
        "\n",
        "            curr_node = curr_node.siguiente\n",
        "\n",
        "    def pop(self,value):\n",
        "        curr_node = self.__head\n",
        "        contador = 1\n",
        "        while contador <= value:\n",
        "            if contador == value:\n",
        "                print(f\"El valor en la posicion {contador} es {curr_node.dato}.\") \n",
        "                print(\"Ahora los nodos quedan así :\", end=\" \")  \n",
        "                #Nota: no supe si tenia que eliminar el nodo o no, pero solo es cuestion de llamar o no a la funcion remove.\n",
        "                self.remove(curr_node.dato)\n",
        "                \n",
        "\n",
        "            curr_node = curr_node.siguiente\n",
        "            contador += 1\n"
      ],
      "execution_count": 150,
      "outputs": []
    },
    {
      "cell_type": "code",
      "metadata": {
        "colab": {
          "base_uri": "https://localhost:8080/"
        },
        "id": "JWxz4yyfD3dn",
        "outputId": "c8fb73b3-144b-4973-b383-7ff3d97ff990"
      },
      "source": [
        "#Is.Empty\n",
        "l = LinkedList()\n",
        "print(f\"La lista l esta vacia? ={l.is_empty()}\")\n",
        "#Tail\n",
        "x=l.tail()\n",
        "print(x)\n",
        "l.append(10)\n",
        "l.append(20)\n",
        "l.append(30)\n",
        "l.append(40)\n",
        "print(\"♥♥♥♥♥♥♥♥\")\n",
        "l.transversal()\n",
        "print(\"♥♥♥♥♥♥♥♥\")\n",
        "l.prepend(5)\n",
        "l.transversal()\n",
        "print(\"♥♥♥♥♥♥♥♥\")\n",
        "l.pop(2)\n",
        "print(\"♥♥♥♥♥♥♥♥\")\n",
        "l.remove(20)\n",
        "print(\"♥♥♥♥♥♥♥♥\")\n",
        "l.remove(870)\n"
      ],
      "execution_count": 149,
      "outputs": [
        {
          "output_type": "stream",
          "text": [
            "La lista l esta vacia? =True\n",
            "None\n",
            "♥♥♥♥♥♥♥♥\n",
            "10 --> 20 --> 30 --> 40 --> \n",
            "♥♥♥♥♥♥♥♥\n",
            "5 --> 10 --> 20 --> 30 --> 40 --> \n",
            "♥♥♥♥♥♥♥♥\n",
            "El valor en la posicion 2 es 10.\n",
            "Ahora los nodos quedan así : 5 --> 20 --> 30 --> 40 --> \n",
            "♥♥♥♥♥♥♥♥\n",
            "5 --> 30 --> 40 --> \n",
            "♥♥♥♥♥♥♥♥\n",
            "El valor no esta dentro de la lista.\n"
          ],
          "name": "stdout"
        }
      ]
    }
  ]
}