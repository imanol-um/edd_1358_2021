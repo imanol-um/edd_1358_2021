{
  "nbformat": 4,
  "nbformat_minor": 0,
  "metadata": {
    "colab": {
      "name": "13Enero_1358.ipynb",
      "provenance": [],
      "authorship_tag": "ABX9TyMSdThxnAjdB/vgzOJiTV8s",
      "include_colab_link": true
    },
    "kernelspec": {
      "name": "python3",
      "display_name": "Python 3"
    }
  },
  "cells": [
    {
      "cell_type": "markdown",
      "metadata": {
        "id": "view-in-github",
        "colab_type": "text"
      },
      "source": [
        "<a href=\"https://colab.research.google.com/github/imanol-um/edd_1358_2021/blob/master/13Enero_1358.ipynb\" target=\"_parent\"><img src=\"https://colab.research.google.com/assets/colab-badge.svg\" alt=\"Open In Colab\"/></a>"
      ]
    },
    {
      "cell_type": "code",
      "metadata": {
        "colab": {
          "base_uri": "https://localhost:8080/"
        },
        "id": "SEoRLILLlFS4",
        "outputId": "adb44570-1625-4420-b190-3a3e1483b3e4"
      },
      "source": [
        "def factorial( n ):\r\n",
        "    if n == 0:\r\n",
        "        return 1\r\n",
        "    else:\r\n",
        "        return factorial( n -1 ) * n \r\n",
        "\r\n",
        "for num in range(21):\r\n",
        "    print( factorial(num) )"
      ],
      "execution_count": 5,
      "outputs": [
        {
          "output_type": "stream",
          "text": [
            "1\n",
            "1\n",
            "2\n",
            "6\n",
            "24\n",
            "120\n",
            "720\n",
            "5040\n",
            "40320\n",
            "362880\n",
            "3628800\n",
            "39916800\n",
            "479001600\n",
            "6227020800\n",
            "87178291200\n",
            "1307674368000\n",
            "20922789888000\n",
            "355687428096000\n",
            "6402373705728000\n",
            "121645100408832000\n",
            "2432902008176640000\n"
          ],
          "name": "stdout"
        }
      ]
    },
    {
      "cell_type": "code",
      "metadata": {
        "colab": {
          "base_uri": "https://localhost:8080/"
        },
        "id": "eklqosbznJ_s",
        "outputId": "21a2c826-4069-42d6-cfe4-d0f87dcd41f9"
      },
      "source": [
        "def printRev( n ):\r\n",
        "    if n > 0:\r\n",
        "        printRev( n - 1)\r\n",
        "        print( n )\r\n",
        "\r\n",
        "printRev(4)"
      ],
      "execution_count": 7,
      "outputs": [
        {
          "output_type": "stream",
          "text": [
            "1\n",
            "2\n",
            "3\n",
            "4\n"
          ],
          "name": "stdout"
        }
      ]
    },
    {
      "cell_type": "code",
      "metadata": {
        "colab": {
          "base_uri": "https://localhost:8080/"
        },
        "id": "hc76NMmgrLSi",
        "outputId": "00c849b3-c0ab-46ea-ed18-d4c0e7778e93"
      },
      "source": [
        "#sucesion de Fibonacci\r\n",
        "def Fibonacci( n ):\r\n",
        "    if n == 0 or n == 1:\r\n",
        "        return n\r\n",
        "    elif n > 1:\r\n",
        "        return Fibonacci(n-1) + Fibonacci(n-2)\r\n",
        "    else: \r\n",
        "        return \"Valor fuera de rango\"\r\n",
        "\r\n",
        "for n in range(10):\r\n",
        "     print(Fibonacci(n))\r\n",
        "#Tarea, realizar funciones recursivas."
      ],
      "execution_count": 33,
      "outputs": [
        {
          "output_type": "stream",
          "text": [
            "0\n",
            "1\n",
            "1\n",
            "2\n",
            "3\n",
            "5\n",
            "8\n",
            "13\n",
            "21\n",
            "34\n"
          ],
          "name": "stdout"
        }
      ]
    }
  ]
}