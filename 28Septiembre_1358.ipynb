{
  "nbformat": 4,
  "nbformat_minor": 0,
  "metadata": {
    "colab": {
      "name": "28Septiembre_1358.ipynb",
      "provenance": [],
      "authorship_tag": "ABX9TyOwXmBKxPMksE3U3/ULFfhl",
      "include_colab_link": true
    },
    "kernelspec": {
      "name": "python3",
      "display_name": "Python 3"
    }
  },
  "cells": [
    {
      "cell_type": "markdown",
      "metadata": {
        "id": "view-in-github",
        "colab_type": "text"
      },
      "source": [
        "<a href=\"https://colab.research.google.com/github/imanol-um/edd_1358_2021/blob/master/28Septiembre_1358.ipynb\" target=\"_parent\"><img src=\"https://colab.research.google.com/assets/colab-badge.svg\" alt=\"Open In Colab\"/></a>"
      ]
    },
    {
      "cell_type": "code",
      "metadata": {
        "id": "eMbwAOVgXK0W",
        "outputId": "cdbc636d-6d49-4534-86c5-8316e2b6e6b7",
        "colab": {
          "base_uri": "https://localhost:8080/",
          "height": 34
        }
      },
      "source": [
        "print(\"Hola colab research\")\n",
        "nombre = \"EdD\""
      ],
      "execution_count": null,
      "outputs": [
        {
          "output_type": "stream",
          "text": [
            "Hola colab research\n"
          ],
          "name": "stdout"
        }
      ]
    },
    {
      "cell_type": "code",
      "metadata": {
        "id": "-3UEYUQ9YXRI",
        "outputId": "9fe02af7-e465-49e5-9c11-8b280b96edf0",
        "colab": {
          "base_uri": "https://localhost:8080/",
          "height": 34
        }
      },
      "source": [
        "print(nombre)"
      ],
      "execution_count": null,
      "outputs": [
        {
          "output_type": "stream",
          "text": [
            "EdD\n"
          ],
          "name": "stdout"
        }
      ]
    },
    {
      "cell_type": "markdown",
      "metadata": {
        "id": "ASzC9hxvaFmo"
      },
      "source": [
        "# Esto es un encabezado\n",
        "## Encabezado nivel 2\n",
        "### Sintaxis MarkDown\n",
        "* elemento 1\n",
        "* elemento 2\n",
        "* elemento 3\n",
        "1. fresa\n",
        "1. mango\n",
        "1. manzana\n",
        "\n",
        "Esto es un texto largo que quiero que sea en **negritas** y en *italica*.\n",
        "[Ir a google](https://www.google.com.mx/?hl=es-419)"
      ]
    },
    {
      "cell_type": "code",
      "metadata": {
        "id": "a5i00qDfcOcy"
      },
      "source": [
        "class Silla(object):\n",
        "  def __init__(self ): \n",
        "    self.material = \"\"\n",
        "    self.color = \"\"\n",
        "\n",
        "  def to_string(self ):\n",
        "    print(\" ----------- \")\n",
        "    print(f\"Material: {self.material} \")\n",
        "    print(f\"Color: {self.color}----------\")"
      ],
      "execution_count": null,
      "outputs": []
    },
    {
      "cell_type": "code",
      "metadata": {
        "id": "nw3ST8TfecMd",
        "outputId": "e4100008-da96-4d83-de86-3c785963b5c0",
        "colab": {
          "base_uri": "https://localhost:8080/",
          "height": 68
        }
      },
      "source": [
        "obj = Silla()\n",
        "obj.material = \"Madera\"\n",
        "obj.color = \"cafe\"\n",
        "obj.to_string()"
      ],
      "execution_count": null,
      "outputs": [
        {
          "output_type": "stream",
          "text": [
            " ----------- \n",
            "Material: Madera \n",
            "Color: cafe----------\n"
          ],
          "name": "stdout"
        }
      ]
    }
  ]
}