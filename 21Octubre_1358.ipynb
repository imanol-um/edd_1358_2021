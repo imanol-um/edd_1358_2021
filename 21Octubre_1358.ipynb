{
  "nbformat": 4,
  "nbformat_minor": 0,
  "metadata": {
    "colab": {
      "name": "21Octubre_1358.ipynb",
      "provenance": [],
      "authorship_tag": "ABX9TyNsY+I6Ogln80+lIsW8kVam",
      "include_colab_link": true
    },
    "kernelspec": {
      "name": "python3",
      "display_name": "Python 3"
    }
  },
  "cells": [
    {
      "cell_type": "markdown",
      "metadata": {
        "id": "view-in-github",
        "colab_type": "text"
      },
      "source": [
        "<a href=\"https://colab.research.google.com/github/imanol-um/edd_1358_2021/blob/master/21Octubre_1358.ipynb\" target=\"_parent\"><img src=\"https://colab.research.google.com/assets/colab-badge.svg\" alt=\"Open In Colab\"/></a>"
      ]
    },
    {
      "cell_type": "code",
      "metadata": {
        "id": "tu0xPX81tIjR",
        "outputId": "74a5e6ff-472d-43d9-b240-746250a0ef67",
        "colab": {
          "base_uri": "https://localhost:8080/",
          "height": 84
        }
      },
      "source": [
        "#Encapsulamiento al estilo tradicional way.\n",
        "class SmarthPhone:\n",
        "    def __init__( self, m ):\n",
        "        self.__marca = m\n",
        "\n",
        "    def set_marca( self, m ):\n",
        "        self.__marca = m\n",
        "\n",
        "    def get_marca( self ):\n",
        "        return self.__marca\n",
        "        \n",
        "    def to_string( self ):\n",
        "        return \"La Marca del Telefono es: \" + self.__marca\n",
        "\n",
        "sp1 = SmarthPhone( \"Huawei\" )\n",
        "print( sp1.to_string() )\n",
        "\n",
        "#Encapsulada, no modificable.\n",
        "sp1.__marca = \"Iphone X\"\n",
        "print( sp1.to_string() )\n",
        "\n",
        "#Es modificable porque se hizo desde el encapsulamiento.\n",
        "sp1.set_marca(\"Samsung\")\n",
        "print( sp1.to_string() )\n",
        "\n",
        "#Obtener el valor del atributo.\n",
        "print(sp1.get_marca())"
      ],
      "execution_count": 8,
      "outputs": [
        {
          "output_type": "stream",
          "text": [
            "La Marca del Telefono es: Huawei\n",
            "La Marca del Telefono es: Huawei\n",
            "La Marca del Telefono es: Samsung\n",
            "Samsung\n"
          ],
          "name": "stdout"
        }
      ]
    },
    {
      "cell_type": "code",
      "metadata": {
        "id": "TlSeglFOxabX",
        "outputId": "9991b646-314a-45d5-a79d-ba9e5ffc130b",
        "colab": {
          "base_uri": "https://localhost:8080/",
          "height": 118
        }
      },
      "source": [
        "#Encapsulamiento al estilo Python 3.\n",
        "class SmarthPhone:\n",
        "    def __init__(self,m):\n",
        "        self.marca = m #Llamando al metodo get.\n",
        "\n",
        "    @property\n",
        "    def marca ( self ): #Define metodo get y se declara self.__marca\n",
        "        #print(\"En el metodo get de marca\")\n",
        "        return self.__marca\n",
        "\n",
        "    @marca.setter\n",
        "    def marca (self, m):\n",
        "        if m in [\"Lenovo\",\"Sony\",\"Motorola\",\"Iphone SE\",\"Huawei\",\"Xiaomi\"]:\n",
        "            self.__marca = m\n",
        "        else:\n",
        "            print(\"Asignacion no valida\")\n",
        "\n",
        "    def to_String ( self ):      \n",
        "        return \"Marca = \" + self.marca  \n",
        "\n",
        "\n",
        "sp2 = SmarthPhone(\"Xiaomi\")\n",
        "print(sp2.to_String())\n",
        "#Esta declarado como privado.\n",
        "sp2.__marca = \"Iphone SE\"\n",
        "print(sp2.to_String())\n",
        "\n",
        "#Esta propiedad es el set y get.\n",
        "sp2.marca = \"Motorola\"#Invocacion del metodo set\n",
        "print(sp2.to_String())\n",
        "\n",
        "print(sp2.marca) #invocacion del metodo get\n",
        "\n",
        "sp2.marca = \"455323465.6565saddsad\"\n",
        "print(sp2.to_String())"
      ],
      "execution_count": 20,
      "outputs": [
        {
          "output_type": "stream",
          "text": [
            "Marca = Xiaomi\n",
            "Marca = Xiaomi\n",
            "Marca = Motorola\n",
            "Motorola\n",
            "Asignacion no valida\n",
            "Marca = Motorola\n"
          ],
          "name": "stdout"
        }
      ]
    },
    {
      "cell_type": "code",
      "metadata": {
        "id": "yfB5zxpQ5SAv",
        "outputId": "538d8b3c-65b1-4cd2-ffad-2aad0414a0f1",
        "colab": {
          "base_uri": "https://localhost:8080/",
          "height": 70
        }
      },
      "source": [
        "class TelefonoTrabajo(SmarthPhone):\n",
        "    def __init__(self, m ):\n",
        "        self.marca = m\n",
        "\n",
        "sp3 = TelefonoTrabajo(\"Motorola\")\n",
        "print(dir(sp3))\n",
        "print(sp3.to_String())"
      ],
      "execution_count": 23,
      "outputs": [
        {
          "output_type": "stream",
          "text": [
            "['_SmarthPhone__marca', '__class__', '__delattr__', '__dict__', '__dir__', '__doc__', '__eq__', '__format__', '__ge__', '__getattribute__', '__gt__', '__hash__', '__init__', '__init_subclass__', '__le__', '__lt__', '__module__', '__ne__', '__new__', '__reduce__', '__reduce_ex__', '__repr__', '__setattr__', '__sizeof__', '__str__', '__subclasshook__', '__weakref__', 'marca', 'to_String']\n",
            "Marca = Motorola\n"
          ],
          "name": "stdout"
        }
      ]
    }
  ]
}