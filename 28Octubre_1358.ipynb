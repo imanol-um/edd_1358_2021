{
  "nbformat": 4,
  "nbformat_minor": 0,
  "metadata": {
    "colab": {
      "name": "28Octubre_1358.ipynb",
      "provenance": [],
      "authorship_tag": "ABX9TyNsWnR487STmdXg5QTSMQh8",
      "include_colab_link": true
    },
    "kernelspec": {
      "name": "python3",
      "display_name": "Python 3"
    }
  },
  "cells": [
    {
      "cell_type": "markdown",
      "metadata": {
        "id": "view-in-github",
        "colab_type": "text"
      },
      "source": [
        "<a href=\"https://colab.research.google.com/github/imanol-um/edd_1358_2021/blob/master/28Octubre_1358.ipynb\" target=\"_parent\"><img src=\"https://colab.research.google.com/assets/colab-badge.svg\" alt=\"Open In Colab\"/></a>"
      ]
    },
    {
      "cell_type": "code",
      "metadata": {
        "id": "c662Tb1PCD9U",
        "outputId": "af0b7858-aae5-4bda-fa0b-b32e092f1277",
        "colab": {
          "base_uri": "https://localhost:8080/"
        }
      },
      "source": [
        "\"\"\"\n",
        "Array\n",
        "\"\"\"\n",
        "class Array:\n",
        "    def __init__(self,tam):\n",
        "        self.__datos = [0 for x in range(tam)]\n",
        "    def get_item(self, index):\n",
        "        dato = 0\n",
        "        if index >= 0 and index < len(self.__datos):\n",
        "            dato = self.__datos[index]\n",
        "        else:\n",
        "            print(\"Error en el indice\")\n",
        "        return dato\n",
        "\n",
        "    def set_item(self, dato, index):\n",
        "        if index >= 0 and index < len(self.__datos):\n",
        "            self.__datos[index] =   dato \n",
        "        else:\n",
        "            print(\"Error en el indice\")\n",
        "    \n",
        "    def get_Length(self):\n",
        "        return len(self.__datos)\n",
        "\n",
        "    def clear(self, dato):\n",
        "        self.datos = [dato for x in range(self.__tam)]\n",
        "\n",
        "    def _getIterator(self):\n",
        "        return _getIterator(self.__datos)\n",
        "\n",
        "class _getIterator:\n",
        "    def __init__(self,arreglo):\n",
        "        self.__arreglo = arreglo\n",
        "        self.__indice_actual = 0\n",
        "    \n",
        "    def __iter__ ( self ):\n",
        "        return self\n",
        "    def __next__ ( self ):\n",
        "        if self.__indice_actual < len(self.__arreglo):\n",
        "            dato = self.__arreglo[self.__indice_actual]\n",
        "            self.__indice_actual += 1\n",
        "            return dato\n",
        "        else:\n",
        "            raise StopIteration\n",
        "\n",
        "\n",
        "mi_arreglo = Array(10)\n",
        "print(mi_arreglo.get_item(100))\n",
        "\n",
        "mi_arreglo.set_item(2134,3)\n",
        "print(mi_arreglo.get_item(3))\n",
        "\n",
        "print('---------------------')\n",
        "for x in mi_arreglo._getIterator():\n",
        "    print(x)\n"
      ],
      "execution_count": 39,
      "outputs": [
        {
          "output_type": "stream",
          "text": [
            "Error en el indice\n",
            "0\n",
            "2134\n",
            "---------------------\n",
            "0\n",
            "0\n",
            "0\n",
            "2134\n",
            "0\n",
            "0\n",
            "0\n",
            "0\n",
            "0\n",
            "0\n"
          ],
          "name": "stdout"
        }
      ]
    },
    {
      "cell_type": "code",
      "metadata": {
        "id": "RiZzgD7HG3mN",
        "outputId": "9973d867-311c-406e-b6da-407bc1baceeb",
        "colab": {
          "base_uri": "https://localhost:8080/"
        }
      },
      "source": [
        "#Generadores \n",
        "basura = ['manzana','pera']\n",
        "datos = [x.upper() for x in basura]\n",
        "print(datos)"
      ],
      "execution_count": 31,
      "outputs": [
        {
          "output_type": "stream",
          "text": [
            "['MANZANA', 'PERA']\n"
          ],
          "name": "stdout"
        }
      ]
    },
    {
      "cell_type": "code",
      "metadata": {
        "id": "20adytJxI1Z6",
        "outputId": "fe1d89f2-929a-4515-be09-a9eb9f186333",
        "colab": {
          "base_uri": "https://localhost:8080/"
        }
      },
      "source": [
        "#Lista 2-d\n",
        "ren = 4\n",
        "col = 6\n",
        "dos_d = [[0 for x in range(col)] for x in range(ren)]\n",
        "print(dos_d)"
      ],
      "execution_count": 29,
      "outputs": [
        {
          "output_type": "stream",
          "text": [
            "[[0, 0, 0, 0, 0, 0], [0, 0, 0, 0, 0, 0], [0, 0, 0, 0, 0, 0], [0, 0, 0, 0, 0, 0]]\n"
          ],
          "name": "stdout"
        }
      ]
    }
  ]
}