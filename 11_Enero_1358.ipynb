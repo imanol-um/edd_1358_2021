{
  "nbformat": 4,
  "nbformat_minor": 0,
  "metadata": {
    "colab": {
      "name": "11_Enero_1358.ipynb",
      "provenance": [],
      "authorship_tag": "ABX9TyPLahhOV+NlsjCFSqJVLeZ5",
      "include_colab_link": true
    },
    "kernelspec": {
      "name": "python3",
      "display_name": "Python 3"
    }
  },
  "cells": [
    {
      "cell_type": "markdown",
      "metadata": {
        "id": "view-in-github",
        "colab_type": "text"
      },
      "source": [
        "<a href=\"https://colab.research.google.com/github/imanol-um/edd_1358_2021/blob/master/11_Enero_1358.ipynb\" target=\"_parent\"><img src=\"https://colab.research.google.com/assets/colab-badge.svg\" alt=\"Open In Colab\"/></a>"
      ]
    },
    {
      "cell_type": "code",
      "metadata": {
        "id": "KNk2DOJlOVgF"
      },
      "source": [
        "class NodoArbol:\r\n",
        "    def __init__( self, dato, hijo_izq = None, hijo_der = None):\r\n",
        "        self.dato = dato\r\n",
        "        self.hijo_izq = hijo_izq\r\n",
        "        self.hijo_der = hijo_der\r\n",
        "\r\n"
      ],
      "execution_count": 6,
      "outputs": []
    },
    {
      "cell_type": "code",
      "metadata": {
        "colab": {
          "base_uri": "https://localhost:8080/"
        },
        "id": "v5E_arSfRN37",
        "outputId": "aec92e21-a0a1-4114-e714-1b75d8c346cd"
      },
      "source": [
        "arbol = NodoArbol(\"R\")\r\n",
        "arbol.hijo_izq = NodoArbol(\"C\")\r\n",
        "arbol.hijo_der = NodoArbol(\"H\")\r\n",
        "#Como se imprime el Nodo Raiz?\r\n",
        "print(arbol.dato)\r\n",
        "#Como se imprime el hijo izq?\r\n",
        "print(arbol.hijo_izq.dato)\r\n",
        "#Como se imprime el hijo der?\r\n",
        "print(arbol.hijo_der.dato)"
      ],
      "execution_count": 7,
      "outputs": [
        {
          "output_type": "stream",
          "text": [
            "R\n",
            "C\n",
            "H\n"
          ],
          "name": "stdout"
        }
      ]
    },
    {
      "cell_type": "code",
      "metadata": {
        "colab": {
          "base_uri": "https://localhost:8080/"
        },
        "id": "RJBVorz8S9c4",
        "outputId": "68b4d93d-3257-4b10-a447-b8900e9ce1df"
      },
      "source": [
        "arbol_v2 = NodoArbol(\"R\", NodoArbol(\"C\"),NodoArbol(\"H\"))\r\n",
        "#Como se imprime el Nodo Raiz?\r\n",
        "print(arbol_v2.dato)\r\n",
        "#Como se imprime el hijo izq?\r\n",
        "print(arbol_v2.hijo_izq.dato)\r\n",
        "#Como se imprime el hijo der?\r\n",
        "print(arbol_v2.hijo_der.dato)"
      ],
      "execution_count": 15,
      "outputs": [
        {
          "output_type": "stream",
          "text": [
            "R\n",
            "C\n",
            "H\n"
          ],
          "name": "stdout"
        }
      ]
    },
    {
      "cell_type": "code",
      "metadata": {
        "colab": {
          "base_uri": "https://localhost:8080/"
        },
        "id": "GwRaCr0ZTf1N",
        "outputId": "d147fcb8-8942-4bf6-a2a9-90a38ff80535"
      },
      "source": [
        "#Ejercicio 2\r\n",
        "arbol2 = NodoArbol(\"4\",NodoArbol(\"3\",NodoArbol(\"2\",NodoArbol(\"1\"))),NodoArbol(\"5\"))\r\n",
        "\r\n",
        "print(arbol2.dato)\r\n",
        "print(arbol2.hijo_der.dato)\r\n",
        "#Izquierdos\r\n",
        "print(arbol2.hijo_izq.dato)\r\n",
        "print(arbol2.hijo_izq.hijo_izq.dato)\r\n",
        "print(arbol2.hijo_izq.hijo_izq.hijo_izq.dato)\r\n",
        "\r\n",
        "aux = arbol2\r\n",
        "\r\n",
        "while aux.hijo_izq != None:\r\n",
        "    aux = aux.hijo_izq\r\n",
        "print(aux.dato)"
      ],
      "execution_count": 22,
      "outputs": [
        {
          "output_type": "stream",
          "text": [
            "4\n",
            "5\n",
            "3\n",
            "2\n",
            "1\n",
            "1\n"
          ],
          "name": "stdout"
        }
      ]
    },
    {
      "cell_type": "code",
      "metadata": {
        "id": "MGeclV1cYZhc"
      },
      "source": [
        "class NodoArbolN:\r\n",
        "    def __init__( self, dato, hijo_izq = None, hijo_cen = None ,hijo_der = None):\r\n",
        "        self.dato = dato\r\n",
        "        self.hijo_izq = hijo_izq\r\n",
        "        self.hijo_cen = hijo_cen\r\n",
        "        self.hijo_der = hijo_der\r\n"
      ],
      "execution_count": 39,
      "outputs": []
    },
    {
      "cell_type": "code",
      "metadata": {
        "colab": {
          "base_uri": "https://localhost:8080/"
        },
        "id": "90y5eMi5ZPj5",
        "outputId": "f4628eaf-16b5-4ac3-c86f-c53550c82b17"
      },
      "source": [
        "arbolito = NodoArbolN(\"R\",NodoArbolN(\"I\",None,NodoArbolN(\"X\")),NodoArbolN(\"C\",NodoArbolN(\"Y\")),NodoArbolN(\"D\",None,None,NodoArbolN(\"Z\")))\r\n",
        "\r\n",
        "#Raiz\r\n",
        "print(arbolito.dato)\r\n",
        "\r\n",
        "print(\"|||||||||||||||||||||\")\r\n",
        "#Derecho\r\n",
        "print(arbolito.hijo_der.dato)\r\n",
        "print(arbolito.hijo_der.hijo_der.dato)\r\n",
        "\r\n",
        "print(\"|||||||||||||||||||||\")\r\n",
        "#Central \r\n",
        "print(arbolito.hijo_cen.dato)\r\n",
        "print(arbolito.hijo_cen.hijo_izq.dato)\r\n",
        "\r\n",
        "print(\"|||||||||||||||||||||\")\r\n",
        "#Izquierdo\r\n",
        "print(arbolito.hijo_izq.dato)\r\n",
        "#Central de izquierdo\r\n",
        "print(arbolito.hijo_izq.hijo_cen.dato)\r\n",
        "\r\n",
        "print(\"|||||||||||||||||||||\")"
      ],
      "execution_count": 38,
      "outputs": [
        {
          "output_type": "stream",
          "text": [
            "R\n",
            "|||||||||||||||||||||\n",
            "D\n",
            "Z\n",
            "|||||||||||||||||||||\n",
            "C\n",
            "Y\n",
            "|||||||||||||||||||||\n",
            "I\n",
            "X\n",
            "|||||||||||||||||||||\n"
          ],
          "name": "stdout"
        }
      ]
    }
  ]
}