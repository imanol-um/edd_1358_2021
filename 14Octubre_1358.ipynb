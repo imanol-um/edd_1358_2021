{
  "nbformat": 4,
  "nbformat_minor": 0,
  "metadata": {
    "colab": {
      "name": "14Octubre_1358.ipynb",
      "provenance": [],
      "toc_visible": true,
      "authorship_tag": "ABX9TyMnxX9ADqkIB4yRo/+fU8jC",
      "include_colab_link": true
    },
    "kernelspec": {
      "name": "python3",
      "display_name": "Python 3"
    }
  },
  "cells": [
    {
      "cell_type": "markdown",
      "metadata": {
        "id": "view-in-github",
        "colab_type": "text"
      },
      "source": [
        "<a href=\"https://colab.research.google.com/github/imanol-um/edd_1358_2021/blob/master/14Octubre_1358.ipynb\" target=\"_parent\"><img src=\"https://colab.research.google.com/assets/colab-badge.svg\" alt=\"Open In Colab\"/></a>"
      ]
    },
    {
      "cell_type": "code",
      "metadata": {
        "id": "ooXfcCGdpRjS",
        "outputId": "1219b4ae-73d9-40d8-e77e-928e304801a3",
        "colab": {
          "base_uri": "https://localhost:8080/",
          "height": 299
        }
      },
      "source": [
        "def calcular (a,b,c):\n",
        "    x = a + (b/c)\n",
        "    return x\n",
        "\n",
        "print(calcular(5,9,3))\n",
        "print(calcular(5,3,9))\n",
        "#o\n",
        "print(calcular(a=5,c=9,b=3))\n",
        "\n",
        "def calcular_v2(a=10,b=20,c=5):\n",
        "    x = a + (b/c)\n",
        "    return x\n",
        "\n",
        "print(calcular_v2())\n",
        "#sigue tomando por posicion\n",
        "print(calcular_v2(40))\n",
        "print(calcular_v2(40,8))\n"
      ],
      "execution_count": 10,
      "outputs": [
        {
          "output_type": "stream",
          "text": [
            "8.0\n",
            "5.333333333333333\n",
            "5.333333333333333\n",
            "14.0\n",
            "44.0\n",
            "41.6\n"
          ],
          "name": "stdout"
        },
        {
          "output_type": "error",
          "ename": "TypeError",
          "evalue": "ignored",
          "traceback": [
            "\u001b[0;31m---------------------------------------------------------------------------\u001b[0m",
            "\u001b[0;31mTypeError\u001b[0m                                 Traceback (most recent call last)",
            "\u001b[0;32m<ipython-input-10-12209c0c665c>\u001b[0m in \u001b[0;36m<module>\u001b[0;34m()\u001b[0m\n\u001b[1;32m     16\u001b[0m \u001b[0mprint\u001b[0m\u001b[0;34m(\u001b[0m\u001b[0mcalcular_v2\u001b[0m\u001b[0;34m(\u001b[0m\u001b[0;36m40\u001b[0m\u001b[0;34m)\u001b[0m\u001b[0;34m)\u001b[0m\u001b[0;34m\u001b[0m\u001b[0;34m\u001b[0m\u001b[0m\n\u001b[1;32m     17\u001b[0m \u001b[0mprint\u001b[0m\u001b[0;34m(\u001b[0m\u001b[0mcalcular_v2\u001b[0m\u001b[0;34m(\u001b[0m\u001b[0;36m40\u001b[0m\u001b[0;34m,\u001b[0m\u001b[0;36m8\u001b[0m\u001b[0;34m)\u001b[0m\u001b[0;34m)\u001b[0m\u001b[0;34m\u001b[0m\u001b[0;34m\u001b[0m\u001b[0m\n\u001b[0;32m---> 18\u001b[0;31m \u001b[0mprint\u001b[0m\u001b[0;34m(\u001b[0m\u001b[0mcalcular_v2\u001b[0m\u001b[0;34m(\u001b[0m\u001b[0;36m40\u001b[0m\u001b[0;34m,\u001b[0m\u001b[0ma\u001b[0m\u001b[0;34m=\u001b[0m\u001b[0;36m8\u001b[0m\u001b[0;34m)\u001b[0m\u001b[0;34m)\u001b[0m\u001b[0;34m\u001b[0m\u001b[0;34m\u001b[0m\u001b[0m\n\u001b[0m",
            "\u001b[0;31mTypeError\u001b[0m: calcular_v2() got multiple values for argument 'a'"
          ]
        }
      ]
    },
    {
      "cell_type": "markdown",
      "metadata": {
        "id": "9G1H92jHrxVo"
      },
      "source": [
        "#Argumentos a funciones por tuplas *\n",
        "= se envian los argumentos en un conjunto de elementos dentro de una tupla."
      ]
    },
    {
      "cell_type": "code",
      "metadata": {
        "id": "XRYtJsrIsCv8",
        "outputId": "42de4c2e-ae2c-4fa9-c946-372860bd190c",
        "colab": {
          "base_uri": "https://localhost:8080/",
          "height": 51
        }
      },
      "source": [
        "def calculo( *elem):\n",
        "    x = elem[0] + (elem[1] / elem[2]) \n",
        "    return x\n",
        "\n",
        "print(calculo(5,9,3))\n",
        "#No importan los demas\n",
        "print(calculo(5,9,3,8,8,8,8,8,8,9))"
      ],
      "execution_count": 14,
      "outputs": [
        {
          "output_type": "stream",
          "text": [
            "8.0\n",
            "8.0\n"
          ],
          "name": "stdout"
        }
      ]
    },
    {
      "cell_type": "markdown",
      "metadata": {
        "id": "mbmQNuELsyxa"
      },
      "source": [
        "#Argumentos como diccionario **"
      ]
    },
    {
      "cell_type": "code",
      "metadata": {
        "id": "Z8ZDp4c0s535",
        "outputId": "1f330e71-bbf1-4d42-8a1e-094e6eb0717e",
        "colab": {
          "base_uri": "https://localhost:8080/",
          "height": 51
        }
      },
      "source": [
        "def calculo(**elem):\n",
        "    print(elem)\n",
        "    x = elem['a'] + (elem['b'] / elem['c'])\n",
        "    return x\n",
        "print(calculo(a=5,b=9,c=3))"
      ],
      "execution_count": 17,
      "outputs": [
        {
          "output_type": "stream",
          "text": [
            "{'a': 5, 'b': 9, 'c': 3}\n",
            "8.0\n"
          ],
          "name": "stdout"
        }
      ]
    },
    {
      "cell_type": "markdown",
      "metadata": {
        "id": "kuWF-P-E2roL"
      },
      "source": [
        "# Archivos\n",
        "- Abrirlos \n",
        "    - un str con ruta el archivo\n",
        "    - Dos caracteres: 1-> modo de apertura (r,w) y el 2 formato (texto      BBinario)\n",
        "- Leerios\n",
        "- Modificarlos"
      ]
    },
    {
      "cell_type": "code",
      "metadata": {
        "id": "gWvDTW4e3cnk"
      },
      "source": [
        "archivo = open('ejemplo.txt','wt')\n",
        "\n",
        "archivo.write(\"Hola mundo de at\")\n",
        "\n",
        "archivo.close()"
      ],
      "execution_count": 20,
      "outputs": []
    },
    {
      "cell_type": "code",
      "metadata": {
        "id": "nzBzM9JT4ffi",
        "outputId": "5d71d52d-cb54-4aef-c917-cd5a916c8e68",
        "colab": {
          "base_uri": "https://localhost:8080/",
          "height": 34
        }
      },
      "source": [
        "cat ejemplo.txt"
      ],
      "execution_count": 21,
      "outputs": [
        {
          "output_type": "stream",
          "text": [
            "Hola mundo de at"
          ],
          "name": "stdout"
        }
      ]
    },
    {
      "cell_type": "code",
      "metadata": {
        "id": "V-nVSl9J5S5e"
      },
      "source": [
        "#Funcion de Linux\n",
        "!(touch j.txt)\n",
        "\n",
        "!(cat ejemplo.txt > otra.txt)"
      ],
      "execution_count": 24,
      "outputs": []
    }
  ]
}