{
  "nbformat": 4,
  "nbformat_minor": 0,
  "metadata": {
    "colab": {
      "name": "23Noviembre_1358.ipynb",
      "provenance": [],
      "authorship_tag": "ABX9TyOz/sjGW0WEzmeFZEojdpYy",
      "include_colab_link": true
    },
    "kernelspec": {
      "name": "python3",
      "display_name": "Python 3"
    }
  },
  "cells": [
    {
      "cell_type": "markdown",
      "metadata": {
        "id": "view-in-github",
        "colab_type": "text"
      },
      "source": [
        "<a href=\"https://colab.research.google.com/github/imanol-um/edd_1358_2021/blob/master/23Noviembre_1358.ipynb\" target=\"_parent\"><img src=\"https://colab.research.google.com/assets/colab-badge.svg\" alt=\"Open In Colab\"/></a>"
      ]
    },
    {
      "cell_type": "code",
      "metadata": {
        "id": "h7BJxxao2wVN"
      },
      "source": [
        "class Nodo:\n",
        "    def __init__( self , dato , siguiente = None):\n",
        "        self.dato = dato\n",
        "        self.siguiente = siguiente\n",
        "\n",
        "class LinkedList:\n",
        "    def __init__(self):\n",
        "        self.__head = None\n",
        "\n",
        "    def is_empty(self):\n",
        "        return self.__head == None\n",
        "\n",
        "    def tail(self):\n",
        "        curr_node = self.__head\n",
        "\n",
        "        while curr_node != None and curr_node.siguiente != None:\n",
        "            curr_node = curr_node.siguiente\n",
        "        return curr_node\n",
        "\n",
        "    def append(self,value):\n",
        "        nuevo = Nodo(value)\n",
        "        if self.__head == None:\n",
        "            self.__head = nuevo\n",
        "        else:\n",
        "            self.tail().siguiente = nuevo\n",
        "\n",
        "    def prepend(self,value):\n",
        "        nueva_cabeza = Nodo(value)\n",
        "        nueva_cabeza.siguiente = self.__head\n",
        "        self.__head = nueva_cabeza\n",
        "\n",
        "    def transversal (self):\n",
        "        curr_node = self.__head\n",
        "        if curr_node == None:\n",
        "            print(\"Lista vacia.\")\n",
        "        else:\n",
        "            while curr_node != None:\n",
        "                print(f\" {curr_node.dato} -->\", end=\" \")\n",
        "                curr_node = curr_node.siguiente\n",
        "            \n",
        "#Tarea Remove y pop\n",
        "\n"
      ],
      "execution_count": 71,
      "outputs": []
    },
    {
      "cell_type": "markdown",
      "metadata": {
        "id": "1yugRK1lG2MH"
      },
      "source": [
        "\n",
        "\"\"\"\n",
        "Codigo de prepend por companieros\n",
        "def prepend(self, value):\n",
        "        nuevo = Nodo(value, self.__head)\n",
        "        self.__head = nuevo\n",
        "\"\"\""
      ]
    },
    {
      "cell_type": "code",
      "metadata": {
        "colab": {
          "base_uri": "https://localhost:8080/"
        },
        "id": "RKaRNEpW8MU3",
        "outputId": "9ab494ae-07b0-4f82-8a72-5b8762aae152"
      },
      "source": [
        "#Is.Empty\n",
        "l = LinkedList()\n",
        "print(f\"La lista l esta vacia? ={l.is_empty()}\")\n",
        "#Tail\n",
        "x=l.tail()\n",
        "print(x)\n",
        "l.append(10)\n",
        "l.append(20)\n",
        "l.append(30)\n",
        "l.append(40)\n",
        "print(\"*************************************\")\n",
        "l.transversal()\n",
        "\n",
        "print(\"*************************************\")\n",
        "l.prepend(5)\n",
        "l.transversal()"
      ],
      "execution_count": 76,
      "outputs": [
        {
          "output_type": "stream",
          "text": [
            "La lista l esta vacia? =True\n",
            "None\n",
            "*************************************\n",
            " 10 -->  20 -->  30 -->  40 --> *************************************\n",
            " 5 -->  10 -->  20 -->  30 -->  40 --> "
          ],
          "name": "stdout"
        }
      ]
    }
  ]
}