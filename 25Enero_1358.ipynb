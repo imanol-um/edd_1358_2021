{
  "nbformat": 4,
  "nbformat_minor": 0,
  "metadata": {
    "colab": {
      "name": "25Enero_1358.ipynb",
      "provenance": [],
      "authorship_tag": "ABX9TyP+2MG/nyKk3qwoIIAkbORd",
      "include_colab_link": true
    },
    "kernelspec": {
      "name": "python3",
      "display_name": "Python 3"
    }
  },
  "cells": [
    {
      "cell_type": "markdown",
      "metadata": {
        "id": "view-in-github",
        "colab_type": "text"
      },
      "source": [
        "<a href=\"https://colab.research.google.com/github/imanol-um/edd_1358_2021/blob/master/25Enero_1358.ipynb\" target=\"_parent\"><img src=\"https://colab.research.google.com/assets/colab-badge.svg\" alt=\"Open In Colab\"/></a>"
      ]
    },
    {
      "cell_type": "code",
      "metadata": {
        "id": "DKDpUQiQTepD"
      },
      "source": [
        "class NodoArbol:\r\n",
        "    def __init__( self, value, left=None, right=None ):\r\n",
        "        self.data = value\r\n",
        "        self.left = left\r\n",
        "        self.right = right"
      ],
      "execution_count": 31,
      "outputs": []
    },
    {
      "cell_type": "code",
      "metadata": {
        "id": "iIDZE0eWTinl"
      },
      "source": [
        "class ArbolBinarioBusqueda:\r\n",
        "    def __init__( self ):\r\n",
        "        self.__root = None\r\n",
        "\r\n",
        "    def insert( self, value ):\r\n",
        "        if self.__root == None:\r\n",
        "            self.__root = NodoArbol( value )\r\n",
        "        else:\r\n",
        "            self.__insert__( self.__root, value )\r\n",
        "\r\n",
        "    def __insert__( self, nodo, value ): # recursividad\r\n",
        "        if nodo.data == value:\r\n",
        "            print(\"El nodo ya existe, no se inserta:\", value)\r\n",
        "        elif value < nodo.data:\r\n",
        "            #ir a la izq\r\n",
        "            if nodo.left == None:\r\n",
        "                nodo.left = NodoArbol( value, None, None )\r\n",
        "            else:\r\n",
        "                self.__insert__( nodo.left, value )\r\n",
        "        else:\r\n",
        "            #ir a la derecha\r\n",
        "            if nodo.right == None:\r\n",
        "                nodo.right = NodoArbol( value, None, None )\r\n",
        "            else:\r\n",
        "                self.__insert__( nodo.right, value )\r\n",
        "\r\n",
        "    def transversal( self, format=\"in\" ): # in, pos, pre\r\n",
        "        if format==\"in\" :\r\n",
        "            print(\"\\nrecorrido in\")\r\n",
        "            self.__recorrido_in( self.__root )\r\n",
        "        elif format==\"pre\":\r\n",
        "            print(\"\\nrecorrido en pre orden\")\r\n",
        "            self.__recorrido_pre( self.__root)\r\n",
        "        elif format==\"pos\":\r\n",
        "            print(\"\\nrecorrido en pos orden\")\r\n",
        "            self.__recorrido_pos( self.__root)\r\n",
        "        else:\r\n",
        "            print(\"\\nformato no valido\")\r\n",
        "    \r\n",
        "    def __recorrido_in( self, nodo ):\r\n",
        "        if nodo == None:\r\n",
        "            #print(\"Caso base\")\r\n",
        "            pass\r\n",
        "        else:\r\n",
        "            self.__recorrido_in( nodo.left )\r\n",
        "            print(nodo.data, end=\",\" )\r\n",
        "            self.__recorrido_in( nodo.right )\r\n",
        "\r\n",
        "    def __recorrido_pre( self, nodo ):\r\n",
        "        if nodo == None:\r\n",
        "            #print(\"Caso base\")\r\n",
        "            pass\r\n",
        "        else:\r\n",
        "            print(nodo.data, end=\",\" )\r\n",
        "            self.__recorrido_pre( nodo.left )\r\n",
        "            self.__recorrido_pre( nodo.right )\r\n",
        "\r\n",
        "    def __recorrido_pos( self, nodo ):\r\n",
        "        if nodo == None:\r\n",
        "            #print(\"Caso base\")\r\n",
        "            pass\r\n",
        "        else:\r\n",
        "            self.__recorrido_pos( nodo.left )\r\n",
        "            self.__recorrido_pos( nodo.right )\r\n",
        "            print(nodo.data, end=\",\" )\r\n",
        "\r\n",
        "    def search( self, value ):\r\n",
        "        if self.__root == None:\r\n",
        "            print(\"Arbol vacio\")\r\n",
        "        else:\r\n",
        "            return self.__search( self.__root, value)\r\n",
        "\r\n",
        "    def __search( self, nodo, value ):\r\n",
        "        if nodo == None:\r\n",
        "            return None\r\n",
        "        elif nodo.data == value:\r\n",
        "            return nodo\r\n",
        "        elif value < nodo.data:\r\n",
        "            print(\"ir a la izquierda\")\r\n",
        "            return self.__search( nodo.left, value)\r\n",
        "        else:\r\n",
        "            print(\"ir a la derecha\")\r\n",
        "            return self.__search( nodo.right, value )\r\n",
        "\r\n",
        "    def remove( self, value):\r\n",
        "        if self.__root == None:\r\n",
        "            print(\"arbol vacio\")\r\n",
        "            #el que deseamos eliminar es la raiz.\r\n",
        "        else:\r\n",
        "            self.__remove( None, None, self.__root, value)\r\n",
        "\r\n",
        "    def __remove( self, padre_hi, padre_hd, actual, value ):\r\n",
        "        if actual == None:\r\n",
        "            print(\"caso base\")\r\n",
        "            return None\r\n",
        "        elif actual.data == value:\r\n",
        "            print(\"\\nencontrado\", actual.data)\r\n",
        "            #caso 1: es nodo hoja\r\n",
        "            if actual.left == None and actual.right == None:\r\n",
        "                if padre_hi != None:\r\n",
        "                    padre_hi.left = None\r\n",
        "                else:\r\n",
        "                    padre_hd.right = None\r\n",
        "            #caso 2: tiene 1 hijo\r\n",
        "            elif  (actual.left != None and actual.right == None) or (actual.left == None and actual.right != None):\r\n",
        "                if actual.left != None:\r\n",
        "                    print(\"subir izq\")\r\n",
        "                    aux = actual.left\r\n",
        "                    actual = None\r\n",
        "                    actual = aux\r\n",
        "                else:\r\n",
        "                    print(\"subir derecho\")\r\n",
        "                    aux = actual.right\r\n",
        "                    actual.right = None\r\n",
        "                    actual = None \r\n",
        "                    actual = aux\r\n",
        "            #caso 3: tine 2 hijos\r\n",
        "            \r\n",
        "        elif value < actual.data:\r\n",
        "            self.__remove( actual, None, actual.left, value)\r\n",
        "        else:\r\n",
        "            self.__remove( None, actual, actual.right, value)"
      ],
      "execution_count": 48,
      "outputs": []
    },
    {
      "cell_type": "code",
      "metadata": {
        "colab": {
          "base_uri": "https://localhost:8080/",
          "height": 199
        },
        "id": "cmn7OIQHTkvr",
        "outputId": "ceebb2d1-ce8e-4976-ddc5-e6c765bd21d0"
      },
      "source": [
        "abb = ArbolBinarioBusqueda()\r\n",
        "\r\n",
        "abb.insert( 50 )\r\n",
        "abb.insert( 30 )\r\n",
        "abb.insert( 60 )\r\n",
        "abb.insert( 35 )\r\n",
        "abb.insert( 89 )\r\n",
        "abb.insert( 55 )\r\n",
        "abb.insert( 1 )\r\n",
        "abb.insert( 33 )\r\n",
        "abb.insert( 80 )\r\n",
        "abb.insert( 100 )\r\n",
        "abb.insert( 57 )\r\n",
        "abb.transversal( 'in' )\r\n",
        "\r\n",
        "abb.remove(55)\r\n",
        "abb.transversal( 'in' )\r\n",
        "\r\n",
        "\"\"\"abb.transversal(\"in\")\r\n",
        "abb.transversal(\"pre\")\r\n",
        "abb.transversal(\"pos\")\r\n",
        "\r\n",
        "print(\"\")\r\n",
        "\r\n",
        "res = abb.search( 70 )\r\n",
        "print(f\"el nodo es:{res.data}, hijo izquierdo {res.left}, hijo derecho {res.right}\")\r\n",
        "print(\"\")\r\n",
        "res = abb.search( 30 )\r\n",
        "print(f\"el nodo es:{res.data}, hijo izquierdo {res.left.data}, hijo derecho {res.right.data}\")\r\n",
        "print(\"\")\r\n",
        "res = abb.search( 89 )\r\n",
        "print(f\"el nodo es:{res.data}, hijo izquierdo {res.left.data}, hijo derecho {res.right}\")\"\"\"\r\n",
        "\r\n"
      ],
      "execution_count": 49,
      "outputs": [
        {
          "output_type": "stream",
          "text": [
            "\n",
            "recorrido in\n",
            "1,30,33,35,50,55,57,60,80,89,100,\n",
            "encontrado 55\n",
            "subir derecho\n",
            "\n",
            "recorrido in\n",
            "1,30,33,35,50,55,60,80,89,100,"
          ],
          "name": "stdout"
        },
        {
          "output_type": "execute_result",
          "data": {
            "application/vnd.google.colaboratory.intrinsic+json": {
              "type": "string"
            },
            "text/plain": [
              "'abb.transversal(\"in\")\\nabb.transversal(\"pre\")\\nabb.transversal(\"pos\")\\n\\nprint(\"\")\\n\\nres = abb.search( 70 )\\nprint(f\"el nodo es:{res.data}, hijo izquierdo {res.left}, hijo derecho {res.right}\")\\nprint(\"\")\\nres = abb.search( 30 )\\nprint(f\"el nodo es:{res.data}, hijo izquierdo {res.left.data}, hijo derecho {res.right.data}\")\\nprint(\"\")\\nres = abb.search( 89 )\\nprint(f\"el nodo es:{res.data}, hijo izquierdo {res.left.data}, hijo derecho {res.right}\")'"
            ]
          },
          "metadata": {
            "tags": []
          },
          "execution_count": 49
        }
      ]
    }
  ]
}