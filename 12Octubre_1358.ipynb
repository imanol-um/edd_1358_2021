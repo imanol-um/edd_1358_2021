{
  "nbformat": 4,
  "nbformat_minor": 0,
  "metadata": {
    "colab": {
      "name": "12Octubre_1358.ipynb",
      "provenance": [],
      "authorship_tag": "ABX9TyMRPx3zMHuPnlvzz4ELmq4E",
      "include_colab_link": true
    },
    "kernelspec": {
      "name": "python3",
      "display_name": "Python 3"
    }
  },
  "cells": [
    {
      "cell_type": "markdown",
      "metadata": {
        "id": "view-in-github",
        "colab_type": "text"
      },
      "source": [
        "<a href=\"https://colab.research.google.com/github/imanol-um/edd_1358_2021/blob/master/12Octubre_1358.ipynb\" target=\"_parent\"><img src=\"https://colab.research.google.com/assets/colab-badge.svg\" alt=\"Open In Colab\"/></a>"
      ]
    },
    {
      "cell_type": "code",
      "metadata": {
        "id": "-lVzzLqcVPqT"
      },
      "source": [
        "#Diccionarios (Continuación)\n",
        "\n",
        "cliente_banco = {\n",
        "              \"id\":1,\n",
        "              \"Nombres\": [\"Juan\",\"Antonio\"],\n",
        "              \"Paterno\":\"Garcia\",\n",
        "              \"Materno\": \"Perez\",\n",
        "              \"Telefonos\":{\n",
        "                          \"Casa\":5566778899,\n",
        "                          \"Celular\":5544332211,\n",
        "                          \"Trabajo\":5566223311\n",
        "                           },\n",
        "              \"Activo\":True,\"Balance\":234567.89,\n",
        "              \"Tarjetas\":({\"Tipo\":\"Debito\",\"Saldo\":12000},\n",
        "                          {\"Tipo\":\"Credito\",\"Saldo\":3500.0})\n",
        "              }\n",
        "\n",
        "print(cliente_banco)\n",
        "print(\"-------------------------\")\n",
        "#cliente_banco[\"Balance\"] = cliente_banco[\"Balance\"] - 1000\n",
        "cliente_banco[\"Balance\"] -= 1850.5\n",
        "print(cliente_banco)\n",
        "print(\"-------------------------\")\n",
        "#No se modifica, solo se remplaza.\n",
        "cliente_banco[\"Tarjetas\"] = ({\"Tipo\":\"Debito\",\"Saldo\":12000},\n",
        "                          {\"Tipo\":\"Credito\",\"Saldo\":3500.0},\n",
        "                          {\"Tipo\":\"Credito\",\"Nivel\":\"Oro\",\"Saldo\":50000})\n",
        "print(cliente_banco)\n",
        "print(\"-------------------------\")\n",
        "cliente_banco[\"Direccion\"] = {\"Calle\":\"Rancho Seco\",\"Numero\":23}\n",
        "print(cliente_banco)\n",
        "print(\"-------------------------\")\n",
        "cliente_banco.pop(\"Tarjetas\")\n",
        "print(cliente_banco)"
      ],
      "execution_count": null,
      "outputs": []
    },
    {
      "cell_type": "code",
      "metadata": {
        "id": "P4Wte2VMdk-_",
        "outputId": "6aa6af94-3a77-4f51-d471-cce28898b2f6",
        "colab": {
          "base_uri": "https://localhost:8080/",
          "height": 581
        }
      },
      "source": [
        "llaves = cliente_banco.keys()\n",
        "print(llaves)\n",
        "print(type(llaves))\n",
        "for x in llaves:\n",
        "  print(x)\n",
        "print(\"***********************\")\n",
        "valores = cliente_banco.values()\n",
        "print(valores)\n",
        "print(type(valores))\n",
        "for v in valores:\n",
        "  print(v)\n",
        "\n",
        "print(\"************************\")\n",
        "pares = cliente_banco.items()\n",
        "print(pares)\n",
        "\n",
        "print(\"*-*-*-*-*-*\")\n",
        "for elem in pares:\n",
        "  print(f\"{elem[0]} = {elem[1]}\")\n"
      ],
      "execution_count": 26,
      "outputs": [
        {
          "output_type": "stream",
          "text": [
            "dict_keys(['id', 'Nombres', 'Paterno', 'Materno', 'Telefonos', 'Activo', 'Balance', 'Direccion'])\n",
            "<class 'dict_keys'>\n",
            "id\n",
            "Nombres\n",
            "Paterno\n",
            "Materno\n",
            "Telefonos\n",
            "Activo\n",
            "Balance\n",
            "Direccion\n",
            "***********************\n",
            "dict_values([1, ['Juan', 'Antonio'], 'Garcia', 'Perez', {'Casa': 5566778899, 'Celular': 5544332211, 'Trabajo': 5566223311}, True, 232717.39, {'Calle': 'Rancho Seco', 'Numero': 23}])\n",
            "<class 'dict_values'>\n",
            "1\n",
            "['Juan', 'Antonio']\n",
            "Garcia\n",
            "Perez\n",
            "{'Casa': 5566778899, 'Celular': 5544332211, 'Trabajo': 5566223311}\n",
            "True\n",
            "232717.39\n",
            "{'Calle': 'Rancho Seco', 'Numero': 23}\n",
            "************************\n",
            "dict_items([('id', 1), ('Nombres', ['Juan', 'Antonio']), ('Paterno', 'Garcia'), ('Materno', 'Perez'), ('Telefonos', {'Casa': 5566778899, 'Celular': 5544332211, 'Trabajo': 5566223311}), ('Activo', True), ('Balance', 232717.39), ('Direccion', {'Calle': 'Rancho Seco', 'Numero': 23})])\n",
            "*-*-*-*-*-*\n",
            "id = 1\n",
            "Nombres = ['Juan', 'Antonio']\n",
            "Paterno = Garcia\n",
            "Materno = Perez\n",
            "Telefonos = {'Casa': 5566778899, 'Celular': 5544332211, 'Trabajo': 5566223311}\n",
            "Activo = True\n",
            "Balance = 232717.39\n",
            "Direccion = {'Calle': 'Rancho Seco', 'Numero': 23}\n"
          ],
          "name": "stdout"
        }
      ]
    },
    {
      "cell_type": "code",
      "metadata": {
        "id": "dn8_sqjNhAkt",
        "outputId": "0b14c5d4-1e3a-459d-bfc1-91d829b12559",
        "colab": {
          "base_uri": "https://localhost:8080/",
          "height": 34
        }
      },
      "source": [
        "frutas = {\"Nomnre\":\"Manzana\",\"Color\":\"Rojo\",\"Estado\":\"Chihuahua\"}\n",
        "\n",
        "otras_caracteristicas = {\"Vitamina\":\"D\"}\n",
        "\n",
        "frutas.update(otras_caracteristicas)\n",
        "\n",
        "print(frutas)"
      ],
      "execution_count": 28,
      "outputs": [
        {
          "output_type": "stream",
          "text": [
            "{'Nomnre': 'Manzana', 'Color': 'Rojo', 'Estado': 'Chihuahua', 'Vitamina': 'D'}\n"
          ],
          "name": "stdout"
        }
      ]
    },
    {
      "cell_type": "markdown",
      "metadata": {
        "id": "eSUfJRIEiioY"
      },
      "source": [
        "#Funciones\n",
        "- recibe de 0 a n argumentos de entrada.\n",
        "- Regresa solo un valor aunque este sea None.\n",
        "- Tiene un nombre unico en el contexto\n",
        "- Se puede hacer solo dos cosas con las funciones\n",
        "  - Definirla\n",
        "  - Llamarla"
      ]
    },
    {
      "cell_type": "code",
      "metadata": {
        "id": "9AyXKOuIjBFf",
        "outputId": "502fac83-9b5b-4cac-b89b-68b7923e3fe0",
        "colab": {
          "base_uri": "https://localhost:8080/",
          "height": 51
        }
      },
      "source": [
        "def suma(a,b):\n",
        "#Cambiando el ancho del tabulador\n",
        "    return a+b\n",
        "\n",
        "def saludar():\n",
        "    print(\"Hola, Como estas?\")\n",
        "    return None \n",
        "\n",
        "x = 10\n",
        "y = 20\n",
        "c = suma(x,y)\n",
        "\n",
        "print(c)\n",
        "saludar()"
      ],
      "execution_count": 33,
      "outputs": [
        {
          "output_type": "stream",
          "text": [
            "30\n",
            "Hola, Como estas?\n"
          ],
          "name": "stdout"
        }
      ]
    },
    {
      "cell_type": "markdown",
      "metadata": {
        "id": "y2IT_BkHkwLN"
      },
      "source": [
        "#None y las Funciones\n",
        "Aprovechar el uso de None en paso de parametros."
      ]
    },
    {
      "cell_type": "code",
      "metadata": {
        "id": "TQNhT1jGk6r3",
        "outputId": "af9613c6-b35f-4584-8a6d-60953c600781",
        "colab": {
          "base_uri": "https://localhost:8080/",
          "height": 51
        }
      },
      "source": [
        "def calcular(base,veces):\n",
        "    if base != None:\n",
        "        resultado = base * veces\n",
        "    else:\n",
        "        resultado = \"Desconocido.\"\n",
        "    return resultado\n",
        "\n",
        "print(calcular(4,12))\n",
        "print(calcular(None,12))"
      ],
      "execution_count": 39,
      "outputs": [
        {
          "output_type": "stream",
          "text": [
            "48\n",
            "Desconocido.\n"
          ],
          "name": "stdout"
        }
      ]
    }
  ]
}