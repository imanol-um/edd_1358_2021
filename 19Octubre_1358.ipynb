{
  "nbformat": 4,
  "nbformat_minor": 0,
  "metadata": {
    "colab": {
      "name": "19Octubre_1358.ipynb",
      "provenance": [],
      "authorship_tag": "ABX9TyMtPDeHulE0d4KtV+Mv6VQ7",
      "include_colab_link": true
    },
    "kernelspec": {
      "name": "python3",
      "display_name": "Python 3"
    }
  },
  "cells": [
    {
      "cell_type": "markdown",
      "metadata": {
        "id": "view-in-github",
        "colab_type": "text"
      },
      "source": [
        "<a href=\"https://colab.research.google.com/github/imanol-um/edd_1358_2021/blob/master/19Octubre_1358.ipynb\" target=\"_parent\"><img src=\"https://colab.research.google.com/assets/colab-badge.svg\" alt=\"Open In Colab\"/></a>"
      ]
    },
    {
      "cell_type": "code",
      "metadata": {
        "id": "gw0ZFbYsZ8W3",
        "outputId": "ccce0bbe-9dbe-4843-fe16-7eb1c62daf3e",
        "colab": {
          "base_uri": "https://localhost:8080/",
          "height": 84
        }
      },
      "source": [
        "#Funcion Read\n",
        "archivo = open('frutas.txt','rt')\n",
        "\n",
        "data = archivo.read()\n",
        "print(data.upper())\n",
        "\n",
        "archivo.close()"
      ],
      "execution_count": 3,
      "outputs": [
        {
          "output_type": "stream",
          "text": [
            "LIMON, AGUACATE, FRESA, MANZANA\n",
            "CIRUELA, CAPULIN, NARANJA\n",
            "PERA, KIWI\n",
            "\n"
          ],
          "name": "stdout"
        }
      ]
    },
    {
      "cell_type": "code",
      "metadata": {
        "id": "fAdLgBPteDyy",
        "outputId": "e4884506-813d-43f4-ca7b-b7da60168fea",
        "colab": {
          "base_uri": "https://localhost:8080/",
          "height": 118
        }
      },
      "source": [
        "#Read Line.\n",
        "archivo = open('frutas.txt','rt')\n",
        "\n",
        "print(archivo.readline())\n",
        "\n",
        "data = archivo.readline()\n",
        "\n",
        "while data != \"\":\n",
        "  print(data)\n",
        "  data = archivo.readline()\n",
        "\n",
        "archivo.close()"
      ],
      "execution_count": 9,
      "outputs": [
        {
          "output_type": "stream",
          "text": [
            "Limon, Aguacate, Fresa, Manzana\n",
            "\n",
            "Ciruela, Capulin, Naranja\n",
            "\n",
            "Pera, Kiwi\n",
            "\n"
          ],
          "name": "stdout"
        }
      ]
    },
    {
      "cell_type": "code",
      "metadata": {
        "id": "q_og4tjegIaR",
        "outputId": "dc9b8c4d-807c-4946-c52b-2f5f19708857",
        "colab": {
          "base_uri": "https://localhost:8080/",
          "height": 67
        }
      },
      "source": [
        "#Read Lines \n",
        "\n",
        "archivo = open('frutas.txt','rt')\n",
        "\n",
        "data = archivo.readlines()\n",
        "print(data)\n",
        "\n",
        "frutas = []\n",
        "for linea in data:\n",
        "  frutas.append(linea.strip())\n",
        "\n",
        "print(frutas)\n",
        "\n",
        "frutas_final = []\n",
        "for elem in frutas:\n",
        "  for fruta in elem.split(','):\n",
        "    frutas_final.append(fruta.strip())\n",
        "\n",
        "print(frutas_final)\n",
        "archivo.close()"
      ],
      "execution_count": 15,
      "outputs": [
        {
          "output_type": "stream",
          "text": [
            "['Limon, Aguacate, Fresa, Manzana\\n', 'Ciruela, Capulin, Naranja\\n', 'Pera, Kiwi\\n']\n",
            "['Limon, Aguacate, Fresa, Manzana', 'Ciruela, Capulin, Naranja', 'Pera, Kiwi']\n",
            "['Limon', 'Aguacate', 'Fresa', 'Manzana', 'Ciruela', 'Capulin', 'Naranja', 'Pera', 'Kiwi']\n"
          ],
          "name": "stdout"
        }
      ]
    },
    {
      "cell_type": "markdown",
      "metadata": {
        "id": "DXqmIvF_lPon"
      },
      "source": [
        "#POO con Python\n",
        "- Clases\n",
        "- Objetos\n",
        "- Atributos\n",
        "- Metodos\n",
        "- Metodo Constructor\n",
        "- Encapsulamiento (Publico y Privado)\n",
        "- Herencia\n",
        "\n",
        "Declarar Clases en Python se usa la palabra reservada class."
      ]
    },
    {
      "cell_type": "code",
      "metadata": {
        "id": "vOdg4ip4lvXS",
        "outputId": "09bfd6db-d77b-43e4-cb12-4d4451f8f57a",
        "colab": {
          "base_uri": "https://localhost:8080/",
          "height": 50
        }
      },
      "source": [
        "class Persona:\n",
        "    def __init__( self, edd, est):\n",
        "        #self.edad = 0\n",
        "        #self.estatura = 0.0\n",
        "        #Encapsulamiento\n",
        "        self.__edad = edd\n",
        "        self.__estatura = est\n",
        "    def to_string( self ):\n",
        "        print(f\"Edad= {self.__edad}, Estatura= {self.__estatura}\")\n",
        "\n",
        "per1 = Persona(23,1.78)\n",
        "per1.to_string()\n",
        "#Al estar encapsuladas, evita o salta la modificacion.\n",
        "per1.estatura = 10.4\n",
        "per1.to_string()\n",
        "\n"
      ],
      "execution_count": 24,
      "outputs": [
        {
          "output_type": "stream",
          "text": [
            "Edad= 23, Estatura= 1.78\n",
            "Edad= 23, Estatura= 1.78\n"
          ],
          "name": "stdout"
        }
      ]
    }
  ]
}