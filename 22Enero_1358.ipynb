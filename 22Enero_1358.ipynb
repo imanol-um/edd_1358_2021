{
  "nbformat": 4,
  "nbformat_minor": 0,
  "metadata": {
    "colab": {
      "name": "22Enero_1358.ipynb",
      "provenance": [],
      "authorship_tag": "ABX9TyPiBHtYDXGOw/SeCeugHj4b",
      "include_colab_link": true
    },
    "kernelspec": {
      "name": "python3",
      "display_name": "Python 3"
    }
  },
  "cells": [
    {
      "cell_type": "markdown",
      "metadata": {
        "id": "view-in-github",
        "colab_type": "text"
      },
      "source": [
        "<a href=\"https://colab.research.google.com/github/imanol-um/edd_1358_2021/blob/master/22Enero_1358.ipynb\" target=\"_parent\"><img src=\"https://colab.research.google.com/assets/colab-badge.svg\" alt=\"Open In Colab\"/></a>"
      ]
    },
    {
      "cell_type": "code",
      "metadata": {
        "id": "0OPsgufp4LB0"
      },
      "source": [
        "class NodoArbol:\r\n",
        "    def __init__( self, value, left=None, right=None ):\r\n",
        "        self.data = value\r\n",
        "        self.left = left\r\n",
        "        self.right = right"
      ],
      "execution_count": 1,
      "outputs": []
    },
    {
      "cell_type": "code",
      "metadata": {
        "id": "tIK6k2Nk4iDb"
      },
      "source": [
        "class ArbolBinarioBusqueda:\r\n",
        "    def __init__( self ):\r\n",
        "        self.__root = None\r\n",
        "\r\n",
        "    def insert( self, value):\r\n",
        "        if self.__root == None:\r\n",
        "            self.__root = NodoArbol( value )\r\n",
        "        else:\r\n",
        "            self.__insert__(self.__root, value)\r\n",
        "\r\n",
        "    def __insert__( self, nodo, value ): #Recursividad\r\n",
        "        if nodo.data == value:\r\n",
        "            print(\"El nodo ya existe, ya no se inserta\", value)\r\n",
        "        \r\n",
        "        elif value < nodo.data:\r\n",
        "            #ir a la izquierda\r\n",
        "            if nodo.left == None:\r\n",
        "                nodo.left = NodoArbol( value)\r\n",
        "            else:\r\n",
        "                self.__insert__( nodo.left, value)\r\n",
        "\r\n",
        "        else:\r\n",
        "            #ir a la derecha\r\n",
        "            if nodo.right == None:\r\n",
        "                nodo.right = NodoArbol( value)\r\n",
        "            else:\r\n",
        "                self.__insert__( nodo.right, value)\r\n",
        "    \r\n",
        "    def transversal( self, formato = \"in\"): #in, pos, pre\r\n",
        "\r\n",
        "        if formato == \"in\":\r\n",
        "            print(\"Recorrido In.\")\r\n",
        "            self.__recorrido__in( self.__root)\r\n",
        "            print(\"\")\r\n",
        "        elif formato == \"pre\":\r\n",
        "            print(\"Recorrido Pre.\")\r\n",
        "            self.__recorrido__pre( self.__root)\r\n",
        "            print(\"\")\r\n",
        "        elif formato == \"pos\":\r\n",
        "            print(\"Recorrido Pos.\")\r\n",
        "            self.__recorrido__pos( self.__root)\r\n",
        "        else:\r\n",
        "            print(\"Formato no valido.\")\r\n",
        "    \r\n",
        "    def __recorrido__in( self, nodo ):\r\n",
        "        if nodo == None:\r\n",
        "            #print(\"Caso base.\")\r\n",
        "            pass\r\n",
        "        else:\r\n",
        "            self.__recorrido__in( nodo.left)\r\n",
        "            print(nodo.data, end=\",\")\r\n",
        "            self.__recorrido__in( nodo.right)\r\n",
        "\r\n",
        "    def __recorrido__pre( self, nodo ):\r\n",
        "        if nodo == None:\r\n",
        "            #print(\"Caso base.\")\r\n",
        "            pass\r\n",
        "        else:\r\n",
        "            print(nodo.data, end=\",\")\r\n",
        "            self.__recorrido__pre( nodo.left)\r\n",
        "            self.__recorrido__pre( nodo.right)\r\n",
        "        \r\n",
        "    def __recorrido__pos( self, nodo ):\r\n",
        "        if nodo == None:\r\n",
        "            #print(\"Caso base.\")\r\n",
        "            pass\r\n",
        "        else:\r\n",
        "            self.__recorrido__pos( nodo.left)\r\n",
        "            self.__recorrido__pos( nodo.right)\r\n",
        "            print(nodo.data, end=\",\")\r\n",
        "\r\n",
        "    def search( self, value):\r\n",
        "        if self.__root == None:\r\n",
        "            print(\"Arbol vacio.\")\r\n",
        "        else:\r\n",
        "            return self.__search( self.__root, value)\r\n",
        "\r\n",
        "    def __search(self, nodo, value):\r\n",
        "        if nodo == None:\r\n",
        "            return None\r\n",
        "        elif nodo.data == value:\r\n",
        "            return nodo\r\n",
        "        elif value < nodo.data:\r\n",
        "            print(\"Ir a la izquierda.\")\r\n",
        "            return self.__search(nodo.left, value)\r\n",
        "        else:\r\n",
        "            print(\"Ir a la derecha.\")\r\n",
        "            return self.__search(nodo.right, value)\r\n"
      ],
      "execution_count": 73,
      "outputs": []
    },
    {
      "cell_type": "code",
      "metadata": {
        "colab": {
          "base_uri": "https://localhost:8080/"
        },
        "id": "5HYBqQB34ken",
        "outputId": "89c170eb-b727-4370-a3c6-03f4387b77d9"
      },
      "source": [
        "abb = ArbolBinarioBusqueda()\r\n",
        "\r\n",
        "abb.insert( 50 )\r\n",
        "abb.insert( 30 )\r\n",
        "abb.insert( 60 )\r\n",
        "abb.insert( 35 )\r\n",
        "abb.insert( 89 )\r\n",
        "abb.insert( 70 )\r\n",
        "abb.insert( 1 )\r\n",
        "\r\n",
        "abb.transversal(\"in\")\r\n",
        "abb.transversal(\"pre\")\r\n",
        "abb.transversal(\"pos\")\r\n",
        "\r\n",
        "print(\"\")\r\n",
        "\r\n",
        "res = abb.search( 70 )\r\n",
        "print(f\"el nodo es:{res.data}, hijo izquierdo {res.left}, hijo derecho {res.right}\")\r\n",
        "print(\"\")\r\n",
        "res = abb.search( 30 )\r\n",
        "print(f\"el nodo es:{res.data}, hijo izquierdo {res.left.data}, hijo derecho {res.right.data}\")\r\n",
        "print(\"\")\r\n",
        "res = abb.search( 89 )\r\n",
        "print(f\"el nodo es:{res.data}, hijo izquierdo {res.left.data}, hijo derecho {res.right}\")"
      ],
      "execution_count": 87,
      "outputs": [
        {
          "output_type": "stream",
          "text": [
            "Recorrido In.\n",
            "1,30,35,50,60,70,89,\n",
            "Recorrido Pre.\n",
            "50,30,1,35,60,89,70,\n",
            "Recorrido Pos.\n",
            "1,35,30,70,89,60,50,\n",
            "Ir a la derecha.\n",
            "Ir a la derecha.\n",
            "Ir a la izquierda.\n",
            "el nodo es:70, hijo izquierdo None, hijo derecho None\n",
            "\n",
            "Ir a la izquierda.\n",
            "el nodo es:30, hijo izquierdo 1, hijo derecho 35\n",
            "\n",
            "Ir a la derecha.\n",
            "Ir a la derecha.\n",
            "el nodo es:89, hijo izquierdo 70, hijo derecho None\n"
          ],
          "name": "stdout"
        }
      ]
    }
  ]
}