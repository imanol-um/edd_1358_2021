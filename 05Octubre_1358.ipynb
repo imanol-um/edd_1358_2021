{
  "nbformat": 4,
  "nbformat_minor": 0,
  "metadata": {
    "colab": {
      "name": "05Octubre_1358.ipynb",
      "provenance": [],
      "authorship_tag": "ABX9TyNII+1YvMrQ4Oe8OziExloc",
      "include_colab_link": true
    },
    "kernelspec": {
      "name": "python3",
      "display_name": "Python 3"
    }
  },
  "cells": [
    {
      "cell_type": "markdown",
      "metadata": {
        "id": "view-in-github",
        "colab_type": "text"
      },
      "source": [
        "<a href=\"https://colab.research.google.com/github/imanol-um/edd_1358_2021/blob/master/05Octubre_1358.ipynb\" target=\"_parent\"><img src=\"https://colab.research.google.com/assets/colab-badge.svg\" alt=\"Open In Colab\"/></a>"
      ]
    },
    {
      "cell_type": "markdown",
      "metadata": {
        "id": "JrHbx-KDXzjI"
      },
      "source": [
        "#Continuacion de la forma de escritura para los strings\n",
        "\n"
      ]
    },
    {
      "cell_type": "code",
      "metadata": {
        "id": "OCkY7yvtQ_GN",
        "outputId": "d8dd3bba-ef56-495c-83f9-e167e2b8e91e",
        "colab": {
          "base_uri": "https://localhost:8080/",
          "height": 102
        }
      },
      "source": [
        "precio = 12.5\n",
        "cantidad = 2\n",
        "existencia = True\n",
        " \n",
        "#Precio de los chetos es de $12.5 y quiero 2, hay?: True\n",
        "\n",
        "print(\"Precio de los chetos es de $\",precio,\" y quiero\",cantidad,\", y hay?:\",existencia)\n",
        "\n",
        "#format() de la clase str\n",
        "\n",
        "print(\"Precio de los chetos es de ${0} y quiero {1}, y hay?:{2}\".format(precio,cantidad,existencia))\n",
        "print(\"Precio de los chetos es de ${2} y quiero {1}, y hay?:{0}\".format(precio,cantidad,existencia))\n",
        "\n",
        "print(\"-------------------------------\")\n",
        "#El operador f\"\"\n",
        "\n",
        "print(f\"Precio de los chetos es de ${precio} y quiero {cantidad}, y hay?:{existencia}\")"
      ],
      "execution_count": 5,
      "outputs": [
        {
          "output_type": "stream",
          "text": [
            "Precio de los chetos es de $ 12.5  y quiero 2 , y hay?: True\n",
            "Precio de los chetos es de $12.5 y quiero 2, y hay?:True\n",
            "Precio de los chetos es de $True y quiero 2, y hay?:12.5\n",
            "-------------------------------\n",
            "Precio de los chetos es de $12.5 y quiero 2, y hay?:True\n"
          ],
          "name": "stdout"
        }
      ]
    },
    {
      "cell_type": "markdown",
      "metadata": {
        "id": "sFJUjxH3XxcU"
      },
      "source": [
        "#Listas\n",
        "declaracion [ ]\n",
        "\n",
        "selector [ ]\n",
        "\n",
        "mutalble\n",
        "#Tuplas\n",
        "declaracion ( )\n",
        "\n",
        "selector [ ]\n",
        "\n",
        "No mutalble\n",
        "\n",
        "#Diccionarios\n",
        "Conjunto de datos en pares de llaves: valor\n",
        "\n",
        "Son mutables\n",
        "\n",
        "Equivalentes a JSON.\n",
        "\n",
        "#Conjuntos\n",
        "Grupo de elementos con la teoria de conjuntos.\n",
        "\n",
        "operaciones de conjuntos."
      ]
    },
    {
      "cell_type": "code",
      "metadata": {
        "id": "51ep4wy6Za6H",
        "outputId": "bfce4401-d563-4f21-aa06-d71d2522f9af",
        "colab": {
          "base_uri": "https://localhost:8080/",
          "height": 408
        }
      },
      "source": [
        "#Listas \n",
        "materias = [\"CyP\",\"DAA\",\"EDD\",\"IS\",\"POO\"]\n",
        "\n",
        "print(materias)\n",
        "#Selector\n",
        "print(materias[2])\n",
        "print(materias[-1])\n",
        "print(materias[4])\n",
        "print(materias[::-1])\n",
        "\n",
        "#crear una lista a partir de un string\n",
        "\n",
        "fecha = \"05/10/2020\"\n",
        "lista_fecha = fecha.split(\"/\")\n",
        "print(lista_fecha)\n",
        "\n",
        "#crear un string a partir de una lista\n",
        "\n",
        "lista_hora = [\"15\",\"22\",\"45\"]\n",
        "hora = \":\".join(lista_hora)\n",
        "print(hora)\n",
        "\n",
        "\n",
        "print(\"---------------------\")\n",
        "\n",
        "print(materias)\n",
        "print(lista_fecha)\n",
        "print(lista_hora)\n",
        "\n",
        "#mutables\n",
        "materias[0] = \"Computadoras y programacion\"\n",
        "print(materias)\n",
        "\n",
        "#magregar\n",
        "materias.append(\"calidad\")\n",
        "print(materias)\n",
        "\n",
        "#Insert, inserta un elemento en x indice\n",
        "materias.insert(2,\"Emprendimiento\")\n",
        "print(materias)\n",
        "\n",
        "#Pop, remueve un elemento y lo puede almacenar, en x indice, sin indicie saca el ultimo\n",
        "materia = materias.pop()\n",
        "print(materia)\n",
        "print(materias)\n",
        "materia = materias.pop(2)\n",
        "print(materia)\n",
        "print(materias)\n",
        "\n",
        "#vaciar una lista\n",
        "materias.clear()\n",
        "print(materias)\n",
        "\n",
        "#Slicing [::]\n",
        "print(\"Slicing\")\n",
        "numeros = [0,1,2,3,4,5,6,7,8,9,10]\n",
        "print(numeros)\n",
        "print(numeros[4:9])\n",
        "\n",
        "#Sustituir un segmento con slicing [0.1.2.3.-2.9.10]\n",
        "numeros[4:9] = [-2]\n",
        "print(numeros)\n"
      ],
      "execution_count": 42,
      "outputs": [
        {
          "output_type": "stream",
          "text": [
            "['CyP', 'DAA', 'EDD', 'IS', 'POO']\n",
            "EDD\n",
            "POO\n",
            "POO\n",
            "['POO', 'IS', 'EDD', 'DAA', 'CyP']\n",
            "['05', '10', '2020']\n",
            "15:22:45\n",
            "---------------------\n",
            "['CyP', 'DAA', 'EDD', 'IS', 'POO']\n",
            "['05', '10', '2020']\n",
            "['15', '22', '45']\n",
            "['Computadoras y programacion', 'DAA', 'EDD', 'IS', 'POO']\n",
            "['Computadoras y programacion', 'DAA', 'EDD', 'IS', 'POO', 'calidad']\n",
            "['Computadoras y programacion', 'DAA', 'Emprendimiento', 'EDD', 'IS', 'POO', 'calidad']\n",
            "calidad\n",
            "['Computadoras y programacion', 'DAA', 'Emprendimiento', 'EDD', 'IS', 'POO']\n",
            "Emprendimiento\n",
            "['Computadoras y programacion', 'DAA', 'EDD', 'IS', 'POO']\n",
            "[]\n",
            "Slicing\n",
            "[0, 1, 2, 3, 4, 5, 6, 7, 8, 9, 10]\n",
            "[4, 5, 6, 7, 8]\n",
            "[0, 1, 2, 3, -2, 9, 10]\n"
          ],
          "name": "stdout"
        }
      ]
    },
    {
      "cell_type": "code",
      "metadata": {
        "id": "XuUjGhyHiQ2y",
        "outputId": "07465f22-a6ef-4d31-ae60-5070fdd1a7b3",
        "colab": {
          "base_uri": "https://localhost:8080/",
          "height": 51
        }
      },
      "source": [
        "autos = [\"Mazda\",\"honda\",\"akura\",\"ford\",\"VW\"]\n",
        "telefonos = [\"iPhone\",\"Huaweii mate 30\",\"Xiaomi s10\",\"Alcatel t1000\"]\n",
        "sistemas_operativos = [\"Windows\",\"Linux\",\"IOS\",\"Android\",\"MacOs\"]\n",
        "\n",
        "lista_2d = [autos,telefonos,sistemas_operativos]\n",
        "print(lista_2d)\n",
        "print(lista_2d[1][1])"
      ],
      "execution_count": 44,
      "outputs": [
        {
          "output_type": "stream",
          "text": [
            "[['Mazda', 'honda', 'akura', 'ford', 'VW'], ['iPhone', 'Huaweii mate 30', 'Xiaomi s10', 'Alcatel t1000'], ['Windows', 'Linux', 'IOS', 'Android', 'MacOs']]\n",
            "Huaweii mate 30\n"
          ],
          "name": "stdout"
        }
      ]
    }
  ]
}