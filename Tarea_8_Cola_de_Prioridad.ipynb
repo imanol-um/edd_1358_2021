{
  "nbformat": 4,
  "nbformat_minor": 0,
  "metadata": {
    "colab": {
      "name": "Tarea 8. Cola de Prioridad.ipynb",
      "provenance": [],
      "authorship_tag": "ABX9TyN5/geGklZBz0a5bCc3Nk+6",
      "include_colab_link": true
    },
    "kernelspec": {
      "name": "python3",
      "display_name": "Python 3"
    }
  },
  "cells": [
    {
      "cell_type": "markdown",
      "metadata": {
        "id": "view-in-github",
        "colab_type": "text"
      },
      "source": [
        "<a href=\"https://colab.research.google.com/github/imanol-um/edd_1358_2021/blob/master/Tarea_8_Cola_de_Prioridad.ipynb\" target=\"_parent\"><img src=\"https://colab.research.google.com/assets/colab-badge.svg\" alt=\"Open In Colab\"/></a>"
      ]
    },
    {
      "cell_type": "code",
      "metadata": {
        "id": "MzO5Os23iU_-"
      },
      "source": [
        "class Queue:\r\n",
        "    def __init__( self ):\r\n",
        "        self.__data = list()\r\n",
        "\r\n",
        "    def is_empty( self ):\r\n",
        "        return len(self.__data) == 0\r\n",
        "    \r\n",
        "    def length( self ):\r\n",
        "        return len(self.__data)\r\n",
        "    \r\n",
        "    def enqueue( self, item ):\r\n",
        "        self.__data.append(item)\r\n",
        "\r\n",
        "    def dequeue(self):\r\n",
        "        if not self.is_empty():      \r\n",
        "            return self.__data.pop(0)\r\n",
        "        else:\r\n",
        "            return None\r\n",
        "\r\n",
        "    def to_string( self ):\r\n",
        "        cadena = \"\"\r\n",
        "        for elem in self.__data:\r\n",
        "            cadena = cadena + \" | \" + elem\r\n",
        "        cadena = cadena + \" | \"\r\n",
        "        return cadena"
      ],
      "execution_count": 20,
      "outputs": []
    },
    {
      "cell_type": "code",
      "metadata": {
        "id": "MfhzVomG4GzC"
      },
      "source": [
        "class PriorityQueue:\r\n",
        "    def __init__( self ):\r\n",
        "        self.__data = [Queue()]\r\n",
        "        self.__size = 0\r\n",
        "\r\n",
        "    def is_empty( self ):\r\n",
        "        return self.__size == 0\r\n",
        "    \r\n",
        "    def length( self ):\r\n",
        "        return self.__size\r\n",
        "\r\n",
        "    def enqueue( self, prioridad, elem):\r\n",
        "        if prioridad < len(self.__data) and prioridad >= 0:\r\n",
        "            self.__data[prioridad].enqueue(elem)\r\n",
        "            self.__size +=1\r\n",
        "\r\n",
        "        elif prioridad >= len(self.__data) and prioridad >= 0:\r\n",
        "            while prioridad >= len(self.__data):\r\n",
        "                self.__data.append(Queue())\r\n",
        "            self.__data[prioridad].enqueue(elem)\r\n",
        "            self.__size +=1 \r\n",
        "        else:\r\n",
        "            print(\"Prioridad fuera de rango.\")\r\n",
        "\r\n",
        "    def dequeue( self ):\r\n",
        "        if not self.is_empty():\r\n",
        "            nivel = 0\r\n",
        "            while self.__data[nivel].is_empty():\r\n",
        "                nivel += 1\r\n",
        "            return self.__data[nivel].dequeue()\r\n",
        "\r\n",
        "    def to_string( self ):\r\n",
        "        for nivel in range(len(self.__data)):\r\n",
        "            print(f\" Nivel {nivel} --> {self.__data[nivel].to_string()}\")"
      ],
      "execution_count": 21,
      "outputs": []
    },
    {
      "cell_type": "code",
      "metadata": {
        "colab": {
          "base_uri": "https://localhost:8080/"
        },
        "id": "BGkf4Pce52VK",
        "outputId": "79d2b131-3fee-41c4-9cc8-f0193c85322b"
      },
      "source": [
        "cpna = PriorityQueue()\r\n",
        "\r\n",
        "\"\"\"\r\n",
        "Prioridad   Nombre\r\n",
        "2           Diana\r\n",
        "3           Santiago\r\n",
        "0           Roberto\r\n",
        "0           Pedro\r\n",
        "2           Maria\r\n",
        "3           José\r\n",
        "4           Mayra\r\n",
        "4           Elena\r\n",
        "\"\"\"\r\n",
        "\r\n",
        "cpna.enqueue(2, \"Diana\")\r\n",
        "cpna.enqueue(3, \"Santiago\")\r\n",
        "cpna.enqueue(0, \"Roberto\")\r\n",
        "cpna.enqueue(0, \"Pedro\")\r\n",
        "cpna.enqueue(2, \"Maria\")\r\n",
        "cpna.enqueue(3, \"José\")\r\n",
        "cpna.enqueue(4, \"Mayra\")\r\n",
        "cpna.enqueue(4, \"Elena\")\r\n",
        "\r\n",
        "#Comprobación.\r\n",
        "cpna.enqueue(13,\"Imanol\")\r\n",
        "cpna.to_string()\r\n",
        "\r\n",
        "print(\"/////////////////////////////\")\r\n",
        "\r\n",
        "print(cpna.dequeue())\r\n",
        "cpna.to_string()"
      ],
      "execution_count": 19,
      "outputs": [
        {
          "output_type": "stream",
          "text": [
            " Nivel 0 -->  | Roberto | Pedro | \n",
            " Nivel 1 -->  | \n",
            " Nivel 2 -->  | Diana | Maria | \n",
            " Nivel 3 -->  | Santiago | José | \n",
            " Nivel 4 -->  | Mayra | Elena | \n",
            " Nivel 5 -->  | \n",
            " Nivel 6 -->  | \n",
            " Nivel 7 -->  | \n",
            " Nivel 8 -->  | \n",
            " Nivel 9 -->  | \n",
            " Nivel 10 -->  | \n",
            " Nivel 11 -->  | \n",
            " Nivel 12 -->  | \n",
            " Nivel 13 -->  | Imanol | \n",
            "/////////////////////////////\n",
            "Roberto\n",
            " Nivel 0 -->  | Pedro | \n",
            " Nivel 1 -->  | \n",
            " Nivel 2 -->  | Diana | Maria | \n",
            " Nivel 3 -->  | Santiago | José | \n",
            " Nivel 4 -->  | Mayra | Elena | \n",
            " Nivel 5 -->  | \n",
            " Nivel 6 -->  | \n",
            " Nivel 7 -->  | \n",
            " Nivel 8 -->  | \n",
            " Nivel 9 -->  | \n",
            " Nivel 10 -->  | \n",
            " Nivel 11 -->  | \n",
            " Nivel 12 -->  | \n",
            " Nivel 13 -->  | Imanol | \n"
          ],
          "name": "stdout"
        }
      ]
    }
  ]
}