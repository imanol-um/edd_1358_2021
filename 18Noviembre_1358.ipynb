{
  "nbformat": 4,
  "nbformat_minor": 0,
  "metadata": {
    "colab": {
      "name": "18Noviembre_1358.ipynb",
      "provenance": [],
      "authorship_tag": "ABX9TyON/1+erws78IB2mIUY4J8S",
      "include_colab_link": true
    },
    "kernelspec": {
      "name": "python3",
      "display_name": "Python 3"
    }
  },
  "cells": [
    {
      "cell_type": "markdown",
      "metadata": {
        "id": "view-in-github",
        "colab_type": "text"
      },
      "source": [
        "<a href=\"https://colab.research.google.com/github/imanol-um/edd_1358_2021/blob/master/18Noviembre_1358.ipynb\" target=\"_parent\"><img src=\"https://colab.research.google.com/assets/colab-badge.svg\" alt=\"Open In Colab\"/></a>"
      ]
    },
    {
      "cell_type": "code",
      "metadata": {
        "id": "ymbaMzcuHuAB"
      },
      "source": [
        "lass Nodo: \n",
        "    def __init__(self, dato):\n",
        "        self.__dato = dato\n",
        "        self.__siguiente = None\n",
        "    def get_dato(self):\n",
        "        return self.__dato\n",
        "    def set_dato(self, d):\n",
        "        self.__dato = d\n",
        "    def get_siguiente(self):\n",
        "        return self.__siguiente\n",
        "    def set_siguiente(self,d):\n",
        "        self.__siguiente = d\n",
        "    def to_string(self):\n",
        "        return \" | \"+ str(self.__dato)+\" | \"+str(self.__siguiente)+\" |--->\"\n",
        "\n",
        "    def show( self ):\n",
        "        curr_node = self # Head, funcion de pibote\n",
        "        print(\"Inicio de la estructura ligada:\")\n",
        "        print(\"|\" + str(curr_node.get_dato()) + \"| -->\" , end =\"\" )\n",
        "        while( curr_node.get_siguiente() != None ):\n",
        "            curr_node = curr_node.get_siguiente()\n",
        "            print(\"|\" + str(curr_node.get_dato() ) + \"| -->\" , end =\"\" )\n",
        "        print(\"\\nFin\")\n",
        "\n",
        "\n",
        "#Ejemplo 1\n",
        "a = Nodo(10)\n",
        "a.show()\n",
        "#Ejemplo 2\n",
        "a.set_siguiente( Nodo(20) )\n",
        "a.show()\n",
        "\n",
        "#Ejemplo 3\n",
        "a.get_siguiente().set_siguiente(Nodo(30))\n",
        "a.show()\n",
        "\n",
        "#Ejemplo 4-5\n",
        "a.get_siguiente().get_siguiente().set_siguiente(Nodo(40))\n",
        "a.show()\n",
        "\n",
        "a.get_siguiente().get_siguiente().get_siguiente().set_siguiente(Nodo(50))\n",
        "a.show()\n",
        "#Modificar 6\n",
        "a.set_dato(30)\n",
        "a.show()\n",
        "#Ejemplo 7\n",
        "a.get_siguiente().get_siguiente().set_siguiente(Nodo(45))\n",
        "a.show()\n",
        "#Ejemplo 8\n",
        "a.get_siguiente().get_siguiente().get_siguiente().set_siguiente( Nodo(60))\n",
        "a.show()\n",
        "\n",
        "#Modificar 9\n",
        "a.get_siguiente().set_dato(25)\n",
        "a.show()\n"
      ],
      "execution_count": null,
      "outputs": []
    },
    {
      "cell_type": "code",
      "metadata": {
        "id": "jxnyB6SOHw78"
      },
      "source": [
        "class Nodo:\n",
        "    def __init__( self , dato ):\n",
        "        self.dato = dato\n",
        "        self.siguiente = None\n",
        "\n",
        "#Ejemplo 1\n",
        "a = Nodo(10)\n",
        "print(a.dato)\n",
        "print(a.siguiente)    \n",
        "\n",
        "#Ejemplo 2\n",
        "a.siguiente = Nodo (20)\n",
        "\n",
        "#Ejemplo 3\n",
        "a.siguiente.siguiente=Nodo(30)\n",
        "\n",
        "#Ejemplo 4\n",
        "a.siguiente.siguiente.siguiente=Nodo(40)\n",
        "\n",
        "#Ejemplo 5\n",
        "a.siguiente.siguiente.siguiente.siguiente=Nodo(50)\n",
        "\n",
        "#Ejemplo 6- Modificiación\n",
        "a.siguiente.siguiente.siguiente.dato=45\n",
        "\n",
        "#Ejemplo 7. Modificación\n",
        "a.siguiente.siguiente.dato = 35\n",
        "\n",
        "#Ejemplo 8- Eliminación\n",
        "a.siguiente.siguiente = a.siguiente.siguiente.siguiente\n",
        "\n",
        "#Ejemplo 9 - Eliminación\n",
        "a.siguiente = a.siguiente.siguiente.siguiente.siguiente\n",
        "\n",
        "#Recorrido transversal\n",
        "curr_node = a\n",
        "print(curr_node.dato , \"-->\" , end=\"\")\n",
        "while( curr_node.siguiente != None ):\n",
        "    curr_node = curr_node.siguiente\n",
        "    print(curr_node.dato, \"-->\" , end=\"\")\n",
        "print(\"\")\n",
        "\n",
        "#Que parametros se cambiarian para insertar un Nodo en la estructura."
      ],
      "execution_count": null,
      "outputs": []
    },
    {
      "cell_type": "code",
      "metadata": {
        "colab": {
          "base_uri": "https://localhost:8080/"
        },
        "id": "4RiocQxMJPwp",
        "outputId": "880ce270-8a36-434a-aa73-945a2f249fae"
      },
      "source": [
        "#Codigo del 18/Noviembre/2020\n",
        "\n",
        "class Nodo:\n",
        "    def __init__( self , dato , siguiente = None):\n",
        "        self.dato = dato\n",
        "        self.siguiente = siguiente\n",
        "\n",
        "head = Nodo(10, Nodo(20, Nodo(30, Nodo(40, Nodo(50 ) ) ) ) )\n",
        "\n",
        "#Recorrido transversal\n",
        "curr_node = head\n",
        "print(curr_node.dato , \"-->\" , end=\"\")\n",
        "while( curr_node.siguiente != None ):\n",
        "    curr_node = curr_node.siguiente\n",
        "    print(curr_node.dato, \"-->\" , end=\"\")\n",
        "print(\"\")\n",
        "\n",
        "#Insertar Nodo 35 despues de 30-------------------------\n",
        "#guardamos el dato\n",
        "anterior = head.siguiente.siguiente\n",
        "#El valor del anterior dato\n",
        "print(anterior.dato)\n",
        "nuevo = Nodo(35)\n",
        "nuevo.siguiente = anterior.siguiente\n",
        "#Comprobar el valor de las variabes.\n",
        "print(nuevo.siguiente.dato)\n",
        "print(anterior.siguiente.dato)\n",
        "anterior.siguiente = nuevo\n",
        "\n",
        "#Recorrido transversal\n",
        "curr_node = head\n",
        "print(curr_node.dato , \"-->\" , end=\"\")\n",
        "while( curr_node.siguiente != None ):\n",
        "    curr_node = curr_node.siguiente\n",
        "    print(curr_node.dato, \"-->\" , end=\"\")\n",
        "print(\"\")\n",
        "\n",
        "\n",
        "#Eliminar el nodo 20\n",
        "\n",
        "head.siguiente = head.siguiente.siguiente\n",
        "\n",
        "#Recorrido transversal\n",
        "curr_node = head\n",
        "print(curr_node.dato , \"-->\" , end=\"\")\n",
        "while( curr_node.siguiente != None ):\n",
        "    curr_node = curr_node.siguiente\n",
        "    print(curr_node.dato, \"-->\" , end=\"\")\n",
        "print(\"\")\n",
        "\n"
      ],
      "execution_count": 15,
      "outputs": [
        {
          "output_type": "stream",
          "text": [
            "10 -->20 -->30 -->40 -->50 -->\n",
            "30\n",
            "40\n",
            "40\n",
            "10 -->20 -->30 -->35 -->40 -->50 -->\n",
            "10 -->30 -->35 -->40 -->50 -->\n"
          ],
          "name": "stdout"
        }
      ]
    },
    {
      "cell_type": "code",
      "metadata": {
        "id": "nYV2MJ1TVR3O"
      },
      "source": [
        "class Nodo:\n",
        "    def __init__( self , dato , siguiente = None):\n",
        "        self.dato = dato\n",
        "        self.siguiente = siguiente\n",
        "\n",
        "class LinkedList:\n",
        "    def __init__ (self):\n",
        "        self.__head = None\n",
        "    def is_empy():\n",
        "        return self.__head == None\n",
        "\n",
        "\n",
        "#Tarea, capturar los metodos faltantes."
      ],
      "execution_count": 20,
      "outputs": []
    }
  ]
}