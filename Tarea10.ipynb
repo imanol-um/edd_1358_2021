{
  "nbformat": 4,
  "nbformat_minor": 0,
  "metadata": {
    "colab": {
      "name": "Tarea10.ipynb",
      "provenance": [],
      "authorship_tag": "ABX9TyMG0+UibdMB4hpB8ltrXv1c",
      "include_colab_link": true
    },
    "kernelspec": {
      "name": "python3",
      "display_name": "Python 3"
    }
  },
  "cells": [
    {
      "cell_type": "markdown",
      "metadata": {
        "id": "view-in-github",
        "colab_type": "text"
      },
      "source": [
        "<a href=\"https://colab.research.google.com/github/imanol-um/edd_1358_2021/blob/master/Tarea10.ipynb\" target=\"_parent\"><img src=\"https://colab.research.google.com/assets/colab-badge.svg\" alt=\"Open In Colab\"/></a>"
      ]
    },
    {
      "cell_type": "markdown",
      "metadata": {
        "id": "Z-P2B1zE9MFa"
      },
      "source": [
        "**1. Crear una lista de enteros en Python y realizar la suma con recursividad, el caso base es cuando en la lista quede un elemento o cuando la longitud sea cero.**\r\n",
        "\r\n"
      ]
    },
    {
      "cell_type": "code",
      "metadata": {
        "colab": {
          "base_uri": "https://localhost:8080/"
        },
        "id": "xW0ygiGI7nRk",
        "outputId": "00877677-8f66-4110-f778-b0781054a68c"
      },
      "source": [
        "def SumaLista( list ):\r\n",
        "    suma = 0\r\n",
        "    for owo in range(len(list)):\r\n",
        "        suma += list[owo]\r\n",
        "    return print(f\"La suma de la lista {list} es igual a {suma}\")\r\n",
        "\r\n",
        "SumaLista([24,35,73,81])"
      ],
      "execution_count": null,
      "outputs": [
        {
          "output_type": "stream",
          "text": [
            "La suma de la lista [24, 35, 73, 81] es igual a 213\n"
          ],
          "name": "stdout"
        }
      ]
    },
    {
      "cell_type": "markdown",
      "metadata": {
        "id": "a6xBziJo9T1a"
      },
      "source": [
        "**2. Hacer un contador regresivo con recursión.**"
      ]
    },
    {
      "cell_type": "code",
      "metadata": {
        "colab": {
          "base_uri": "https://localhost:8080/"
        },
        "id": "HAX0STaY9J89",
        "outputId": "c2073c9c-464d-42e9-f8cd-40aeb60d19d2"
      },
      "source": [
        "def ContadorRec( n ):\r\n",
        "    \r\n",
        "    if n >= 0:\r\n",
        "        print( n )\r\n",
        "        ContadorRec(n - 1)\r\n",
        "\r\n",
        "ContadorRec(4)"
      ],
      "execution_count": null,
      "outputs": [
        {
          "output_type": "stream",
          "text": [
            "4\n",
            "3\n",
            "2\n",
            "1\n",
            "0\n"
          ],
          "name": "stdout"
        }
      ]
    },
    {
      "cell_type": "markdown",
      "metadata": {
        "id": "Q2c3KodK9XKl"
      },
      "source": [
        "**3. Sacar de un ADT pila el valor en la posición media.**"
      ]
    },
    {
      "cell_type": "code",
      "metadata": {
        "id": "gsjlZfwl9KHk"
      },
      "source": [
        ""
      ],
      "execution_count": null,
      "outputs": []
    }
  ]
}