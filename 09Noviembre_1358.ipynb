{
  "nbformat": 4,
  "nbformat_minor": 0,
  "metadata": {
    "colab": {
      "name": "09Noviembre_1358.ipynb",
      "provenance": [],
      "authorship_tag": "ABX9TyOjD+cHMyVds56czqvlOCOT",
      "include_colab_link": true
    },
    "kernelspec": {
      "name": "python3",
      "display_name": "Python 3"
    }
  },
  "cells": [
    {
      "cell_type": "markdown",
      "metadata": {
        "id": "view-in-github",
        "colab_type": "text"
      },
      "source": [
        "<a href=\"https://colab.research.google.com/github/imanol-um/edd_1358_2021/blob/master/09Noviembre_1358.ipynb\" target=\"_parent\"><img src=\"https://colab.research.google.com/assets/colab-badge.svg\" alt=\"Open In Colab\"/></a>"
      ]
    },
    {
      "cell_type": "code",
      "metadata": {
        "id": "lRdorkK31A_f",
        "outputId": "55fa4e9c-2745-42ef-8767-a15d4e95375c",
        "colab": {
          "base_uri": "https://localhost:8080/"
        }
      },
      "source": [
        "class Nodo: \n",
        "    def __init__(self, dato):\n",
        "        self.__dato = dato\n",
        "        self.__siguiente = None\n",
        "    def get_dato(self):\n",
        "        return self.__dato\n",
        "    def set_dato(self, d):\n",
        "        self.__dato = d\n",
        "    def get_siguiente(self):\n",
        "        return self.__siguiente\n",
        "    def set_siguiente(self,d):\n",
        "        self.__siguiente = d\n",
        "    def to_string(self):\n",
        "        return \" | \"+ str(self.__dato)+\" | \"+str(self.__siguiente)+\" |--->\"\n",
        "\n",
        "    def show( self ):\n",
        "        curr_node = self # Head\n",
        "        print(\"Inicio de la estructura ligada:\")\n",
        "        print(\"|\" + str(curr_node.get_dato()) + \"| -->\" , end =\"\" )\n",
        "        while( curr_node.get_siguiente() != None ):\n",
        "            curr_node = curr_node.get_siguiente()\n",
        "            print(\"|\" + str(curr_node.get_dato() ) + \"| -->\" , end =\"\" )\n",
        "        print(\"\\nFin\")\n",
        "\n",
        "\n",
        "#Ejemplo 1\n",
        "a = Nodo(10)\n",
        "a.show()\n",
        "#Ejemplo 2\n",
        "a.set_siguiente( Nodo(20) )\n",
        "a.show()\n",
        "\n",
        "#Ejemplo 3\n",
        "\n",
        "\n",
        "\n",
        "#Parametros para ensertar un nodo (entre dos nodos) y desaparecer un nodo."
      ],
      "execution_count": 17,
      "outputs": [
        {
          "output_type": "stream",
          "text": [
            "Inicio de la estructura ligada:\n",
            "|10| -->\n",
            "Fin\n",
            "Inicio de la estructura ligada:\n",
            "|10| -->|20| -->\n",
            "Fin\n"
          ],
          "name": "stdout"
        }
      ]
    }
  ]
}