{
  "nbformat": 4,
  "nbformat_minor": 0,
  "metadata": {
    "colab": {
      "name": "30Noviembre_1358.ipynb",
      "provenance": [],
      "authorship_tag": "ABX9TyNHbHMXLG5qYeFTFMqrqee5",
      "include_colab_link": true
    },
    "kernelspec": {
      "name": "python3",
      "display_name": "Python 3"
    }
  },
  "cells": [
    {
      "cell_type": "markdown",
      "metadata": {
        "id": "view-in-github",
        "colab_type": "text"
      },
      "source": [
        "<a href=\"https://colab.research.google.com/github/imanol-um/edd_1358_2021/blob/master/30Noviembre_1358.ipynb\" target=\"_parent\"><img src=\"https://colab.research.google.com/assets/colab-badge.svg\" alt=\"Open In Colab\"/></a>"
      ]
    },
    {
      "cell_type": "code",
      "metadata": {
        "id": "2qOZSUhG8oJX"
      },
      "source": [
        "class Stack:\n",
        "    def __init__(self):\n",
        "        self.__data = []\n",
        "        self.__size = 0 \n",
        "    \n",
        "    def pop(self):\n",
        "        return self.__data.pop()\n",
        "    \n",
        "    def peek(self):\n",
        "        return self.__data[-1]\n",
        "\n",
        "    def push(self, value):\n",
        "        self.__data.append(value)\n",
        "\n",
        "    def to_string(self):\n",
        "        print(\"--------\")\n",
        "        for dato in self.__data[:-1]:\n",
        "            print(f\"| {dato} |\")\n",
        "            print(\"--------\")"
      ],
      "execution_count": 13,
      "outputs": []
    },
    {
      "cell_type": "code",
      "metadata": {
        "colab": {
          "base_uri": "https://localhost:8080/"
        },
        "id": "8c77LrYh9S0l",
        "outputId": "f9045580-b133-482b-932f-e5abc314d8fe"
      },
      "source": [
        "pl = Stack()\n",
        "\n",
        "pl.push(34)\n",
        "pl.push(10)\n",
        "pl.push(45)\n",
        "pl.push(4)\n",
        "pl.push(23)\n",
        "pl.to_string()\n",
        "\n",
        "valor = pl.pop()\n",
        "print(valor*2)\n",
        "pl.to_string()\n",
        "valor = pl.peek()\n",
        "print(valor*2)\n",
        "pl.to_string()"
      ],
      "execution_count": 14,
      "outputs": [
        {
          "output_type": "stream",
          "text": [
            "--------\n",
            "| 34 |\n",
            "--------\n",
            "| 10 |\n",
            "--------\n",
            "| 45 |\n",
            "--------\n",
            "| 4 |\n",
            "--------\n",
            "46\n",
            "--------\n",
            "| 34 |\n",
            "--------\n",
            "| 10 |\n",
            "--------\n",
            "| 45 |\n",
            "--------\n",
            "8\n",
            "--------\n",
            "| 34 |\n",
            "--------\n",
            "| 10 |\n",
            "--------\n",
            "| 45 |\n",
            "--------\n"
          ],
          "name": "stdout"
        }
      ]
    },
    {
      "cell_type": "code",
      "metadata": {
        "colab": {
          "base_uri": "https://localhost:8080/"
        },
        "id": "tdyrI53_Abaq",
        "outputId": "52eea1eb-3bc7-467d-a277-793031881e21"
      },
      "source": [
        "#Aplicaciones de la estructura Stack\n",
        "#1- Validacion de parentesis balanceados '(' '[' y '{'\n",
        "cadena = \"b=3*(5+(4/2))\"\n",
        "pila = Stack()\n",
        "pila.push(\"#\") #caracter de pila vacia \n",
        "for elem in cadena:\n",
        "    if elem == '(':\n",
        "        pila.push(\"*\")\n",
        "    elif elem == ')':\n",
        "        pila.pop()\n",
        "    else:\n",
        "        pass\n",
        "\n",
        "if pila.peek == '#':\n",
        "    print(\"La expresion esta balanceada en parentesis.\")\n",
        "else:\n",
        "    print(\"La expresion no esta balanceada en parentesis.\")"
      ],
      "execution_count": 18,
      "outputs": [
        {
          "output_type": "stream",
          "text": [
            "La expresion no esta balanceada en parentesis.\n"
          ],
          "name": "stdout"
        }
      ]
    }
  ]
}