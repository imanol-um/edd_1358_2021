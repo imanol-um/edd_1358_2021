{
  "nbformat": 4,
  "nbformat_minor": 0,
  "metadata": {
    "colab": {
      "name": "02Octubre_1358.ipynb",
      "provenance": [],
      "authorship_tag": "ABX9TyOO8MrdFcMSmPfN9shUCqKc",
      "include_colab_link": true
    },
    "kernelspec": {
      "name": "python3",
      "display_name": "Python 3"
    }
  },
  "cells": [
    {
      "cell_type": "markdown",
      "metadata": {
        "id": "view-in-github",
        "colab_type": "text"
      },
      "source": [
        "<a href=\"https://colab.research.google.com/github/imanol-um/edd_1358_2021/blob/master/02Octubre_1358.ipynb\" target=\"_parent\"><img src=\"https://colab.research.google.com/assets/colab-badge.svg\" alt=\"Open In Colab\"/></a>"
      ]
    },
    {
      "cell_type": "markdown",
      "metadata": {
        "id": "E3tlXFJf3SQH"
      },
      "source": [
        "#Tipos de Datos.\n",
        "\n",
        "- string  str\n",
        "- enteros  int\n",
        "- enteros flotantes   float\n",
        "- logico   boole\n",
        "- numero complejo    complex\n",
        "- listas list\n",
        "- tuplas  tuple\n",
        "- diccionarios dict\n",
        "- conjuntos set"
      ]
    },
    {
      "cell_type": "code",
      "metadata": {
        "id": "vIZ92RZ330e9",
        "outputId": "7308b944-9628-4cf0-8d80-67760451780b",
        "colab": {
          "base_uri": "https://localhost:8080/",
          "height": 153
        }
      },
      "source": [
        "#Los striong pueden emplear ''.\"\", \"\"\" \"\"\"\n",
        "universidad  = \"        universidad               nacional           autonoma        de mexico           \"\n",
        "print(universidad)\n",
        "#Cuando el string es una sola palabra se usa asi '' -----> Buena practica\n",
        "\n",
        "carrera = 'ico'\n",
        "area = \"software\"\n",
        "division = 'division de las ciencias fisico-matemaricas'\n",
        "print(carrera,area)\n",
        "print(division)\n",
        "# cuando el string tiene varios renglones \"\"\"\n",
        "\n",
        "frase = \"\"\"\n",
        "si funciona \n",
        "ya no\n",
        "lo arregles!!!\n",
        "\"\"\"\n",
        "print(frase)"
      ],
      "execution_count": 11,
      "outputs": [
        {
          "output_type": "stream",
          "text": [
            "        universidad               nacional           autonoma        de mexico           \n",
            "ico software\n",
            "division de las ciencias fisico-matemaricas\n",
            "\n",
            "si funciona \n",
            "ya no\n",
            "lo arregles!!!\n",
            "\n"
          ],
          "name": "stdout"
        }
      ]
    },
    {
      "cell_type": "code",
      "metadata": {
        "id": "IkQ4L7MX4KOZ",
        "outputId": "64e57551-6607-4bd0-c9e4-b7d8cfae774f",
        "colab": {
          "base_uri": "https://localhost:8080/",
          "height": 204
        }
      },
      "source": [
        "#help(str)\n",
        "#Convertir todo en mayuscula\n",
        "print(universidad.upper())\n",
        "print(universidad)\n",
        "#Mayuscula en cada palabra\n",
        "print(universidad.title())\n",
        "#Elimina los los espacios laterales\n",
        "print(universidad.strip())\n",
        "#Eliminar Espacios extra\n",
        "lista = universidad.split(\" \")\n",
        "nueva = \"\"\n",
        "for l in lista:\n",
        "  if len(l) > 0:\n",
        "    nueva += l + \" \"\n",
        "print(nueva)\n",
        "\n",
        "numeros = \"1,2,34,56,100\"\n",
        "separados = numeros.split(\",\")\n",
        "print(separados)\n",
        "#Split\n",
        "numeros_int = []\n",
        "for num in separados:\n",
        "  numeros_int.append(int(num))\n",
        "print(numeros_int)\n",
        "\n",
        "print(nueva)\n",
        "#Saber la posicion de \"algo\"\n",
        "print(nueva.index(\" \"))\n",
        "print(nueva.index(\"na\"))\n",
        "#Remplaza\n",
        "print(nueva.replace(\" \",\"-\"))\n",
        "print(nueva)\n"
      ],
      "execution_count": 42,
      "outputs": [
        {
          "output_type": "stream",
          "text": [
            "        UNIVERSIDAD               NACIONAL           AUTONOMA        DE MEXICO           \n",
            "        universidad               nacional           autonoma        de mexico           \n",
            "        Universidad               Nacional           Autonoma        De Mexico           \n",
            "universidad               nacional           autonoma        de mexico\n",
            "universidad nacional autonoma de mexico \n",
            "['1', '2', '34', '56', '100']\n",
            "[1, 2, 34, 56, 100]\n",
            "universidad nacional autonoma de mexico \n",
            "11\n",
            "12\n",
            "universidad-nacional-autonoma-de-mexico-\n"
          ],
          "name": "stdout"
        }
      ]
    },
    {
      "cell_type": "markdown",
      "metadata": {
        "id": "tc9TVajL_XBQ"
      },
      "source": [
        "# Slicing \n",
        "\n",
        "sintaxis\n",
        "[ inicio : stop : incremento ]"
      ]
    },
    {
      "cell_type": "code",
      "metadata": {
        "id": "n0FyxfmG_v_H",
        "outputId": "a2ab6cc6-8e5f-4467-b9e8-09b5055af91f",
        "colab": {
          "base_uri": "https://localhost:8080/",
          "height": 170
        }
      },
      "source": [
        "#Selector de elementos dentro de un string\n",
        "print( nueva[0] ) #Indexado por posicion.\n",
        "nueva = nueva.strip()\n",
        "print(nueva[len(nueva) -1]) #Indexado Negativo.\n",
        "print(nueva[-2])\n",
        "\n",
        "#Slicing\n",
        "print( nueva[12:20:1] ) \n",
        "#Indexado negativo en Slicing\n",
        "print(nueva[-6: :1])\n",
        "print(nueva[:-7:-1])\n",
        "\n",
        "#Valores por defecto [ 0 : longuitud de la lista : 1]\n",
        "\n",
        "print(nueva[:4:])\n",
        "print(nueva[::]) #todo en valor por defecto.\n",
        "print(nueva[::2]) #Saltos de dos en dos\n"
      ],
      "execution_count": 77,
      "outputs": [
        {
          "output_type": "stream",
          "text": [
            "u\n",
            "o\n",
            "c\n",
            "nacional\n",
            "mexico\n",
            "ocixem\n",
            "univ\n",
            "universidad nacional autonoma de mexico\n",
            "uiesddncoa uooad eio\n"
          ],
          "name": "stdout"
        }
      ]
    },
    {
      "cell_type": "markdown",
      "metadata": {
        "id": "PXUyyZm5D_Ap"
      },
      "source": [
        "# Bool\n",
        "Solo acepta dos valores =  True        False\n",
        "\n",
        "True bool (1)\n",
        "\n",
        "False bool (0)"
      ]
    },
    {
      "cell_type": "code",
      "metadata": {
        "id": "xBlNQLv-ERXq",
        "outputId": "7bbe79bc-1e65-43da-b541-9585db2589c8",
        "colab": {
          "base_uri": "https://localhost:8080/",
          "height": 85
        }
      },
      "source": [
        "#Cualquier entero diferente de 0 es True\n",
        "print(bool(0))\n",
        "print(bool(1))\n",
        "flag = 0\n",
        "print(bool(flag))\n",
        "print(True)"
      ],
      "execution_count": 82,
      "outputs": [
        {
          "output_type": "stream",
          "text": [
            "False\n",
            "True\n",
            "False\n",
            "True\n"
          ],
          "name": "stdout"
        }
      ]
    },
    {
      "cell_type": "markdown",
      "metadata": {
        "id": "dIOSk7-NFXU6"
      },
      "source": [
        "#comentarios\n",
        "\n",
        "Para un comentario de una linea se usa #\n",
        "Para un comentario de multiple linea equivalente a /**/ de java y leng c se utiliza \"\"\"\n",
        "\"\"\""
      ]
    },
    {
      "cell_type": "code",
      "metadata": {
        "id": "djwufj0PFYTX",
        "outputId": "71dc83a8-e854-4883-ad48-2534d98db9b2",
        "colab": {
          "base_uri": "https://localhost:8080/",
          "height": 35
        }
      },
      "source": [
        "#Este es un comentario de linea simple\n",
        "\"\"\"Este \n",
        "es\n",
        "un comentario \n",
        "de multiple linea\n",
        "\"\"\""
      ],
      "execution_count": 83,
      "outputs": [
        {
          "output_type": "execute_result",
          "data": {
            "application/vnd.google.colaboratory.intrinsic+json": {
              "type": "string"
            },
            "text/plain": [
              "'Este \\nes\\nun comentario \\nde multiple linea\\n'"
            ]
          },
          "metadata": {
            "tags": []
          },
          "execution_count": 83
        }
      ]
    },
    {
      "cell_type": "markdown",
      "metadata": {
        "id": "6qojXxiCFuAe"
      },
      "source": [
        "#Funcion Print\n",
        "\n",
        "hay 4 formas de usar print.\n",
        "1. con comas (,)\n",
        "1. con el signo + (+)\n",
        "1. con la funcion format() de clase string \n",
        "1. con el operador f\"\""
      ]
    },
    {
      "cell_type": "code",
      "metadata": {
        "id": "Y3xHyTCjGNxE",
        "outputId": "d0139613-4596-4051-b07c-ebb602dde655",
        "colab": {
          "base_uri": "https://localhost:8080/",
          "height": 68
        }
      },
      "source": [
        "#con comas\n",
        "\n",
        "cantidad = 2\n",
        "precio_chettos = 8\n",
        "precio_fanta = 12\n",
        "\n",
        "print(cantidad,precio_chettos,precio_fanta)\n",
        "\n",
        "#con signo + solo opera con string's\n",
        "print(\"Hola\"+\"Mundo\")\n",
        "print(str(cantidad)+str(precio_chettos)+str(precio_fanta))\n",
        "\n"
      ],
      "execution_count": 88,
      "outputs": [
        {
          "output_type": "stream",
          "text": [
            "2 8 12\n",
            "HolaMundo\n",
            "2812\n"
          ],
          "name": "stdout"
        }
      ]
    }
  ]
}