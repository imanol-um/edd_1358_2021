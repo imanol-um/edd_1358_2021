{
  "nbformat": 4,
  "nbformat_minor": 0,
  "metadata": {
    "colab": {
      "name": "07Octubre_1358.ipynb",
      "provenance": [],
      "authorship_tag": "ABX9TyNknE7TEHJcKQul71uOXTgz",
      "include_colab_link": true
    },
    "kernelspec": {
      "name": "python3",
      "display_name": "Python 3"
    }
  },
  "cells": [
    {
      "cell_type": "markdown",
      "metadata": {
        "id": "view-in-github",
        "colab_type": "text"
      },
      "source": [
        "<a href=\"https://colab.research.google.com/github/imanol-um/edd_1358_2021/blob/master/07Octubre_1358.ipynb\" target=\"_parent\"><img src=\"https://colab.research.google.com/assets/colab-badge.svg\" alt=\"Open In Colab\"/></a>"
      ]
    },
    {
      "cell_type": "code",
      "metadata": {
        "id": "dE-usMFvnq6G"
      },
      "source": [
        "#listas multidimencion\n",
        "autos = [\"Mazda\",\"honda\",\"Akura\",\"Ford\",\"VW\"]\n",
        "telefonos = [\"iPhone\",\"Huawei Mate 30\", \"Xiaomi S10\",\"Alcatel t1000\"]\n",
        "sistemas_operativos = [ \"Windows\", \"Linux\" , \"Android\" , \"iOS\" ,\"MacOs\" ]\n",
        "procesadores = [[\"intel\",3.1,True],[\"AMD\",2.7,False],[\"Motorola\",1.1, False]]\n",
        "\n",
        "lista_nd = [autos,telefonos,sistemas_operativos,procesadores]\n",
        "print(lista_nd)\n",
        "print(lista_nd[2][3])\n",
        "print(lista_nd[1][1][3:7:1])\n",
        "print(lista_nd[3][1][1])\n",
        "\n",
        "print(lista_nd[3][2][0][2:6:1])\n",
        "print(lista_nd[3][0][0][3:0:-1])\n",
        "\n",
        "#concatenar listas\n",
        "colores = [\"rojo\",\"verde\",\"azul\",\"negro\"]\n",
        "flores = [\"margarita\",\"rosa\"]\n",
        "\n",
        "nueva = colores + flores\n",
        "print(nueva)\n",
        "print(colores)\n",
        "print(flores)\n",
        "\n",
        "#con extends\n",
        "#la lista original se modifica\n",
        "\n",
        "colores.extend(flores)\n",
        "print(colores)\n",
        "\n",
        "# unpacking de listas\n",
        "print(\"unpacking\")\n",
        "datos_personales = [\"Jose\",\"Perez\",\"Juarez\",22,1.67,True]\n",
        "nombre,paterno,materno,edad,estarura,fuma = datos_personales\n",
        "print(nombre,paterno,materno,edad,estarura,fuma)\n",
        "print(f\"Nombre:{nombre}\\n Edad:{edad}\")"
      ],
      "execution_count": null,
      "outputs": []
    },
    {
      "cell_type": "code",
      "metadata": {
        "id": "HLU34MrrucoX"
      },
      "source": [
        "#Tuplas\n",
        "bd = ('127.0.0.1','root','toor','1234')\n",
        "print(f\"El usuario de la base de datos es: {bd[1]}\")\n",
        "\n",
        "#bd[1] = 'user1'\n",
        "#No es modificacle,\n",
        "\n",
        "#Usuario y contrasenia.\n",
        "print(bd[1:3])"
      ],
      "execution_count": null,
      "outputs": []
    },
    {
      "cell_type": "code",
      "metadata": {
        "id": "eIW_R_U6wVg3"
      },
      "source": [
        "#Diccionarios\n",
        "alumno = {'Nombre':'Juan','Edad':19,'Carrera':'ICO'}\n",
        "print(alumno)\n",
        "print(alumno['Edad'])\n",
        "#Diccionario en multi-linea\n",
        "alumno = {'Nombre':'Juan',\n",
        "          'Edad':19,\n",
        "          'Carrera':'ICO',\n",
        "          'Direccion' : {'calle':'bosques de africa',\n",
        "                       'Numero':33,\n",
        "                       'Delegacion':'Neza',\n",
        "                       'Estado':15,\n",
        "                       'Nombre de estado':'Estado de Mexico'}\n",
        "          }\n",
        "\n",
        "print(alumno)\n",
        "print(alumno['Direccion'])\n",
        "print(alumno['Direccion']['Delegacion'])\n",
        "print(alumno['Direccion']['Delegacion'][3:7])\n",
        "print(alumno['Direccion']['Delegacion'][3:7].upper() )\n",
        "alumno['Edad'] = 15\n",
        "print(alumno['Edad'])\n",
        "alumno['Promedio'] = 9.9\n",
        "print(alumno)\n",
        "alumno['Direccion']['cp'] = 18180\n",
        "print(alumno)\n",
        "alumno['Materias'] = {'Nombre':'CyP','Calificacion':10}\n",
        "print(alumno)\n",
        "\n",
        "\n",
        "cliente = {}\n",
        "print(cliente)\n",
        "cliente = {    'id'    :1,   'Nombre'   :'Carlos Slim'}\n",
        "print(cliente)\n",
        "\n",
        "\n",
        "#Siguiente clase, Arreglos dentro de diccionarios.\n"
      ],
      "execution_count": null,
      "outputs": []
    }
  ]
}