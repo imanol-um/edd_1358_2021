{
  "nbformat": 4,
  "nbformat_minor": 0,
  "metadata": {
    "colab": {
      "name": "30Octubre_1358.ipynb",
      "provenance": [],
      "authorship_tag": "ABX9TyMdxSFstDaxgtsFLnxToiKA",
      "include_colab_link": true
    },
    "kernelspec": {
      "name": "python3",
      "display_name": "Python 3"
    }
  },
  "cells": [
    {
      "cell_type": "markdown",
      "metadata": {
        "id": "view-in-github",
        "colab_type": "text"
      },
      "source": [
        "<a href=\"https://colab.research.google.com/github/imanol-um/edd_1358_2021/blob/master/30Octubre_1358.ipynb\" target=\"_parent\"><img src=\"https://colab.research.google.com/assets/colab-badge.svg\" alt=\"Open In Colab\"/></a>"
      ]
    },
    {
      "cell_type": "code",
      "metadata": {
        "id": "YDn7icX2baV-",
        "outputId": "206a8663-ddf0-440b-a0d7-8fef86471da9",
        "colab": {
          "base_uri": "https://localhost:8080/"
        }
      },
      "source": [
        "\"\"\"\n",
        "Array\n",
        "\"\"\"\n",
        "class Array:\n",
        "    def __init__(self,tam):\n",
        "        self.__datos = [0 for x in range(tam)]\n",
        "    def get_item(self, index):\n",
        "        dato = 0\n",
        "        if index >= 0 and index < len(self.__datos):\n",
        "            dato = self.__datos[index]\n",
        "        else:\n",
        "            print(\"Error en el indice\")\n",
        "        return dato\n",
        "\n",
        "    def set_item(self, dato, index):\n",
        "        if index >= 0 and index < len(self.__datos):\n",
        "            self.__datos[index] =   dato \n",
        "        else:\n",
        "            print(\"Error en el indice\")\n",
        "    \n",
        "    def get_Length(self):\n",
        "        return len(self.__datos)\n",
        "\n",
        "    def clear(self, dato):\n",
        "        self.datos = [dato for x in range(self.__tam)]\n",
        "\n",
        "    def _getIterator(self):\n",
        "        return _getIterator(self.__datos)\n",
        "\n",
        "class _getIterator:\n",
        "    def __init__(self,arreglo):\n",
        "        self.__arreglo = arreglo\n",
        "        self.__indice_actual = 0\n",
        "    \n",
        "    def __iter__ ( self ):\n",
        "        return self\n",
        "    def __next__ ( self ):\n",
        "        if self.__indice_actual < len(self.__arreglo):\n",
        "            dato = self.__arreglo[self.__indice_actual]\n",
        "            self.__indice_actual += 1\n",
        "            return dato\n",
        "        else:\n",
        "            raise StopIteration\n",
        "\n",
        "\n",
        "mi_arreglo = Array(10)\n",
        "print(mi_arreglo.get_item(100))\n",
        "\n",
        "mi_arreglo.set_item(2134,3)\n",
        "print(mi_arreglo.get_item(3))\n",
        "\n",
        "print('---------------------')\n",
        "for x in mi_arreglo._getIterator():\n",
        "    print(x)"
      ],
      "execution_count": 18,
      "outputs": [
        {
          "output_type": "stream",
          "text": [
            "Error en el indice\n",
            "0\n",
            "2134\n",
            "---------------------\n",
            "0\n",
            "0\n",
            "0\n",
            "2134\n",
            "0\n",
            "0\n",
            "0\n",
            "0\n",
            "0\n",
            "0\n"
          ],
          "name": "stdout"
        }
      ]
    },
    {
      "cell_type": "code",
      "metadata": {
        "id": "rTNikpFVT6vR"
      },
      "source": [
        "class Empleado:\n",
        "    def __init__( self,  num, nom, pat, mat, he, sb, anioi):\n",
        "        self.__num_trabajador = num\n",
        "        self.__nombres = nom\n",
        "        self.__paterno = pat\n",
        "        self.__materno = mat\n",
        "        self.__horas_extra = he\n",
        "        self.__sueldo_base = sb\n",
        "        self.__anio_ingreso = anio\n",
        "#Getters and setters\n",
        "\n",
        "#Metodos de uso general = los calculos.\n",
        "\n",
        "#Metodos especial. to_string()"
      ],
      "execution_count": 20,
      "outputs": []
    },
    {
      "cell_type": "code",
      "metadata": {
        "id": "h2NNYWYFWHIl",
        "outputId": "ee115089-baad-40f1-ae37-7c103eb66ea6",
        "colab": {
          "base_uri": "https://localhost:8080/"
        }
      },
      "source": [
        "'''\n",
        "ADT Sueldos --> encapsula datos (de nomina)\n",
        "cargar_datos(ruta_archivos)\n",
        "calcular_sueldos ()\n",
        "reportar_mayor_antiguedad ()\n",
        "reportar_menor_antiguedad ()\n",
        "'''\n",
        "class Sueldos:\n",
        "    def __init__(self):\n",
        "        self.__data = None\n",
        "\n",
        "    def cargar_datos(self, ruta_archivo):\n",
        "        archivo = open(ruta_archivo, \"rt\", encoding='latin1' )\n",
        "        lineas = archivo.readlines()\n",
        "        archivo.close()\n",
        "        self.__data = Array(len(lineas)-1)\n",
        "        #Tarea\n",
        "        for linea in lineas:\n",
        "            print(lineas)\n",
        "            #separar campos y hacer casting en algunos datos\n",
        "            #crear un objeto de tipo empleado.\n",
        "            #cargar ese objeto a self.__data.set__item()\n",
        "\n",
        "ejemplo = Sueldos()\n",
        "ejemplo.cargar_datos('junio.dat')"
      ],
      "execution_count": 22,
      "outputs": [
        {
          "output_type": "stream",
          "text": [
            "['numero de trabajador, nombres, paterno, materno, horas extra, sueldo base, aÃ±o de ingreso\\n', '2345,CARLOS,PEREZ,CASTILLO,0,9850,2017\\n', '5754,ANGEL,GOMEZ,GARRIDO,1,9850,2020\\n', '5345,JESUS,MARTIN,SANTOS,2,9850,2016\\n', '3267,DAVID,JIMENEZ,LOZANO,2,9850,2017\\n', '8765,PEDRO,RUIZ,GUERRERO,2,9850,2017\\n', '5454,DANIEL,HERNANDEZ,CANO,3,9850,2018\\n', '3456,ALEJANDRO,DIAZ,PRIETO,2,9850,2018\\n', '3445,MARIA,MORENO,MENDEZ,1,9850,2018\\n', '9088,ALBERTO,MU\\x84OZ,CRUZ,1,9850,2017\\n', '8877,RAFAEL,ALVAREZ,FLORES,2,9850,2017\\n', '6767,FERNANDO,ROMERO,HERRERA,4,9850,2019\\n', '5654,PABLO,ALONSO,GALLEGO,1,9850,2019\\n', '4323,JORGE,GUTIERREZ,MARQUEZ,2,9850,2020\\n', '2232,RAMON,NAVARRO,LEON,1,9850,2016']\n",
            "['numero de trabajador, nombres, paterno, materno, horas extra, sueldo base, aÃ±o de ingreso\\n', '2345,CARLOS,PEREZ,CASTILLO,0,9850,2017\\n', '5754,ANGEL,GOMEZ,GARRIDO,1,9850,2020\\n', '5345,JESUS,MARTIN,SANTOS,2,9850,2016\\n', '3267,DAVID,JIMENEZ,LOZANO,2,9850,2017\\n', '8765,PEDRO,RUIZ,GUERRERO,2,9850,2017\\n', '5454,DANIEL,HERNANDEZ,CANO,3,9850,2018\\n', '3456,ALEJANDRO,DIAZ,PRIETO,2,9850,2018\\n', '3445,MARIA,MORENO,MENDEZ,1,9850,2018\\n', '9088,ALBERTO,MU\\x84OZ,CRUZ,1,9850,2017\\n', '8877,RAFAEL,ALVAREZ,FLORES,2,9850,2017\\n', '6767,FERNANDO,ROMERO,HERRERA,4,9850,2019\\n', '5654,PABLO,ALONSO,GALLEGO,1,9850,2019\\n', '4323,JORGE,GUTIERREZ,MARQUEZ,2,9850,2020\\n', '2232,RAMON,NAVARRO,LEON,1,9850,2016']\n",
            "['numero de trabajador, nombres, paterno, materno, horas extra, sueldo base, aÃ±o de ingreso\\n', '2345,CARLOS,PEREZ,CASTILLO,0,9850,2017\\n', '5754,ANGEL,GOMEZ,GARRIDO,1,9850,2020\\n', '5345,JESUS,MARTIN,SANTOS,2,9850,2016\\n', '3267,DAVID,JIMENEZ,LOZANO,2,9850,2017\\n', '8765,PEDRO,RUIZ,GUERRERO,2,9850,2017\\n', '5454,DANIEL,HERNANDEZ,CANO,3,9850,2018\\n', '3456,ALEJANDRO,DIAZ,PRIETO,2,9850,2018\\n', '3445,MARIA,MORENO,MENDEZ,1,9850,2018\\n', '9088,ALBERTO,MU\\x84OZ,CRUZ,1,9850,2017\\n', '8877,RAFAEL,ALVAREZ,FLORES,2,9850,2017\\n', '6767,FERNANDO,ROMERO,HERRERA,4,9850,2019\\n', '5654,PABLO,ALONSO,GALLEGO,1,9850,2019\\n', '4323,JORGE,GUTIERREZ,MARQUEZ,2,9850,2020\\n', '2232,RAMON,NAVARRO,LEON,1,9850,2016']\n",
            "['numero de trabajador, nombres, paterno, materno, horas extra, sueldo base, aÃ±o de ingreso\\n', '2345,CARLOS,PEREZ,CASTILLO,0,9850,2017\\n', '5754,ANGEL,GOMEZ,GARRIDO,1,9850,2020\\n', '5345,JESUS,MARTIN,SANTOS,2,9850,2016\\n', '3267,DAVID,JIMENEZ,LOZANO,2,9850,2017\\n', '8765,PEDRO,RUIZ,GUERRERO,2,9850,2017\\n', '5454,DANIEL,HERNANDEZ,CANO,3,9850,2018\\n', '3456,ALEJANDRO,DIAZ,PRIETO,2,9850,2018\\n', '3445,MARIA,MORENO,MENDEZ,1,9850,2018\\n', '9088,ALBERTO,MU\\x84OZ,CRUZ,1,9850,2017\\n', '8877,RAFAEL,ALVAREZ,FLORES,2,9850,2017\\n', '6767,FERNANDO,ROMERO,HERRERA,4,9850,2019\\n', '5654,PABLO,ALONSO,GALLEGO,1,9850,2019\\n', '4323,JORGE,GUTIERREZ,MARQUEZ,2,9850,2020\\n', '2232,RAMON,NAVARRO,LEON,1,9850,2016']\n",
            "['numero de trabajador, nombres, paterno, materno, horas extra, sueldo base, aÃ±o de ingreso\\n', '2345,CARLOS,PEREZ,CASTILLO,0,9850,2017\\n', '5754,ANGEL,GOMEZ,GARRIDO,1,9850,2020\\n', '5345,JESUS,MARTIN,SANTOS,2,9850,2016\\n', '3267,DAVID,JIMENEZ,LOZANO,2,9850,2017\\n', '8765,PEDRO,RUIZ,GUERRERO,2,9850,2017\\n', '5454,DANIEL,HERNANDEZ,CANO,3,9850,2018\\n', '3456,ALEJANDRO,DIAZ,PRIETO,2,9850,2018\\n', '3445,MARIA,MORENO,MENDEZ,1,9850,2018\\n', '9088,ALBERTO,MU\\x84OZ,CRUZ,1,9850,2017\\n', '8877,RAFAEL,ALVAREZ,FLORES,2,9850,2017\\n', '6767,FERNANDO,ROMERO,HERRERA,4,9850,2019\\n', '5654,PABLO,ALONSO,GALLEGO,1,9850,2019\\n', '4323,JORGE,GUTIERREZ,MARQUEZ,2,9850,2020\\n', '2232,RAMON,NAVARRO,LEON,1,9850,2016']\n",
            "['numero de trabajador, nombres, paterno, materno, horas extra, sueldo base, aÃ±o de ingreso\\n', '2345,CARLOS,PEREZ,CASTILLO,0,9850,2017\\n', '5754,ANGEL,GOMEZ,GARRIDO,1,9850,2020\\n', '5345,JESUS,MARTIN,SANTOS,2,9850,2016\\n', '3267,DAVID,JIMENEZ,LOZANO,2,9850,2017\\n', '8765,PEDRO,RUIZ,GUERRERO,2,9850,2017\\n', '5454,DANIEL,HERNANDEZ,CANO,3,9850,2018\\n', '3456,ALEJANDRO,DIAZ,PRIETO,2,9850,2018\\n', '3445,MARIA,MORENO,MENDEZ,1,9850,2018\\n', '9088,ALBERTO,MU\\x84OZ,CRUZ,1,9850,2017\\n', '8877,RAFAEL,ALVAREZ,FLORES,2,9850,2017\\n', '6767,FERNANDO,ROMERO,HERRERA,4,9850,2019\\n', '5654,PABLO,ALONSO,GALLEGO,1,9850,2019\\n', '4323,JORGE,GUTIERREZ,MARQUEZ,2,9850,2020\\n', '2232,RAMON,NAVARRO,LEON,1,9850,2016']\n",
            "['numero de trabajador, nombres, paterno, materno, horas extra, sueldo base, aÃ±o de ingreso\\n', '2345,CARLOS,PEREZ,CASTILLO,0,9850,2017\\n', '5754,ANGEL,GOMEZ,GARRIDO,1,9850,2020\\n', '5345,JESUS,MARTIN,SANTOS,2,9850,2016\\n', '3267,DAVID,JIMENEZ,LOZANO,2,9850,2017\\n', '8765,PEDRO,RUIZ,GUERRERO,2,9850,2017\\n', '5454,DANIEL,HERNANDEZ,CANO,3,9850,2018\\n', '3456,ALEJANDRO,DIAZ,PRIETO,2,9850,2018\\n', '3445,MARIA,MORENO,MENDEZ,1,9850,2018\\n', '9088,ALBERTO,MU\\x84OZ,CRUZ,1,9850,2017\\n', '8877,RAFAEL,ALVAREZ,FLORES,2,9850,2017\\n', '6767,FERNANDO,ROMERO,HERRERA,4,9850,2019\\n', '5654,PABLO,ALONSO,GALLEGO,1,9850,2019\\n', '4323,JORGE,GUTIERREZ,MARQUEZ,2,9850,2020\\n', '2232,RAMON,NAVARRO,LEON,1,9850,2016']\n",
            "['numero de trabajador, nombres, paterno, materno, horas extra, sueldo base, aÃ±o de ingreso\\n', '2345,CARLOS,PEREZ,CASTILLO,0,9850,2017\\n', '5754,ANGEL,GOMEZ,GARRIDO,1,9850,2020\\n', '5345,JESUS,MARTIN,SANTOS,2,9850,2016\\n', '3267,DAVID,JIMENEZ,LOZANO,2,9850,2017\\n', '8765,PEDRO,RUIZ,GUERRERO,2,9850,2017\\n', '5454,DANIEL,HERNANDEZ,CANO,3,9850,2018\\n', '3456,ALEJANDRO,DIAZ,PRIETO,2,9850,2018\\n', '3445,MARIA,MORENO,MENDEZ,1,9850,2018\\n', '9088,ALBERTO,MU\\x84OZ,CRUZ,1,9850,2017\\n', '8877,RAFAEL,ALVAREZ,FLORES,2,9850,2017\\n', '6767,FERNANDO,ROMERO,HERRERA,4,9850,2019\\n', '5654,PABLO,ALONSO,GALLEGO,1,9850,2019\\n', '4323,JORGE,GUTIERREZ,MARQUEZ,2,9850,2020\\n', '2232,RAMON,NAVARRO,LEON,1,9850,2016']\n",
            "['numero de trabajador, nombres, paterno, materno, horas extra, sueldo base, aÃ±o de ingreso\\n', '2345,CARLOS,PEREZ,CASTILLO,0,9850,2017\\n', '5754,ANGEL,GOMEZ,GARRIDO,1,9850,2020\\n', '5345,JESUS,MARTIN,SANTOS,2,9850,2016\\n', '3267,DAVID,JIMENEZ,LOZANO,2,9850,2017\\n', '8765,PEDRO,RUIZ,GUERRERO,2,9850,2017\\n', '5454,DANIEL,HERNANDEZ,CANO,3,9850,2018\\n', '3456,ALEJANDRO,DIAZ,PRIETO,2,9850,2018\\n', '3445,MARIA,MORENO,MENDEZ,1,9850,2018\\n', '9088,ALBERTO,MU\\x84OZ,CRUZ,1,9850,2017\\n', '8877,RAFAEL,ALVAREZ,FLORES,2,9850,2017\\n', '6767,FERNANDO,ROMERO,HERRERA,4,9850,2019\\n', '5654,PABLO,ALONSO,GALLEGO,1,9850,2019\\n', '4323,JORGE,GUTIERREZ,MARQUEZ,2,9850,2020\\n', '2232,RAMON,NAVARRO,LEON,1,9850,2016']\n",
            "['numero de trabajador, nombres, paterno, materno, horas extra, sueldo base, aÃ±o de ingreso\\n', '2345,CARLOS,PEREZ,CASTILLO,0,9850,2017\\n', '5754,ANGEL,GOMEZ,GARRIDO,1,9850,2020\\n', '5345,JESUS,MARTIN,SANTOS,2,9850,2016\\n', '3267,DAVID,JIMENEZ,LOZANO,2,9850,2017\\n', '8765,PEDRO,RUIZ,GUERRERO,2,9850,2017\\n', '5454,DANIEL,HERNANDEZ,CANO,3,9850,2018\\n', '3456,ALEJANDRO,DIAZ,PRIETO,2,9850,2018\\n', '3445,MARIA,MORENO,MENDEZ,1,9850,2018\\n', '9088,ALBERTO,MU\\x84OZ,CRUZ,1,9850,2017\\n', '8877,RAFAEL,ALVAREZ,FLORES,2,9850,2017\\n', '6767,FERNANDO,ROMERO,HERRERA,4,9850,2019\\n', '5654,PABLO,ALONSO,GALLEGO,1,9850,2019\\n', '4323,JORGE,GUTIERREZ,MARQUEZ,2,9850,2020\\n', '2232,RAMON,NAVARRO,LEON,1,9850,2016']\n",
            "['numero de trabajador, nombres, paterno, materno, horas extra, sueldo base, aÃ±o de ingreso\\n', '2345,CARLOS,PEREZ,CASTILLO,0,9850,2017\\n', '5754,ANGEL,GOMEZ,GARRIDO,1,9850,2020\\n', '5345,JESUS,MARTIN,SANTOS,2,9850,2016\\n', '3267,DAVID,JIMENEZ,LOZANO,2,9850,2017\\n', '8765,PEDRO,RUIZ,GUERRERO,2,9850,2017\\n', '5454,DANIEL,HERNANDEZ,CANO,3,9850,2018\\n', '3456,ALEJANDRO,DIAZ,PRIETO,2,9850,2018\\n', '3445,MARIA,MORENO,MENDEZ,1,9850,2018\\n', '9088,ALBERTO,MU\\x84OZ,CRUZ,1,9850,2017\\n', '8877,RAFAEL,ALVAREZ,FLORES,2,9850,2017\\n', '6767,FERNANDO,ROMERO,HERRERA,4,9850,2019\\n', '5654,PABLO,ALONSO,GALLEGO,1,9850,2019\\n', '4323,JORGE,GUTIERREZ,MARQUEZ,2,9850,2020\\n', '2232,RAMON,NAVARRO,LEON,1,9850,2016']\n",
            "['numero de trabajador, nombres, paterno, materno, horas extra, sueldo base, aÃ±o de ingreso\\n', '2345,CARLOS,PEREZ,CASTILLO,0,9850,2017\\n', '5754,ANGEL,GOMEZ,GARRIDO,1,9850,2020\\n', '5345,JESUS,MARTIN,SANTOS,2,9850,2016\\n', '3267,DAVID,JIMENEZ,LOZANO,2,9850,2017\\n', '8765,PEDRO,RUIZ,GUERRERO,2,9850,2017\\n', '5454,DANIEL,HERNANDEZ,CANO,3,9850,2018\\n', '3456,ALEJANDRO,DIAZ,PRIETO,2,9850,2018\\n', '3445,MARIA,MORENO,MENDEZ,1,9850,2018\\n', '9088,ALBERTO,MU\\x84OZ,CRUZ,1,9850,2017\\n', '8877,RAFAEL,ALVAREZ,FLORES,2,9850,2017\\n', '6767,FERNANDO,ROMERO,HERRERA,4,9850,2019\\n', '5654,PABLO,ALONSO,GALLEGO,1,9850,2019\\n', '4323,JORGE,GUTIERREZ,MARQUEZ,2,9850,2020\\n', '2232,RAMON,NAVARRO,LEON,1,9850,2016']\n",
            "['numero de trabajador, nombres, paterno, materno, horas extra, sueldo base, aÃ±o de ingreso\\n', '2345,CARLOS,PEREZ,CASTILLO,0,9850,2017\\n', '5754,ANGEL,GOMEZ,GARRIDO,1,9850,2020\\n', '5345,JESUS,MARTIN,SANTOS,2,9850,2016\\n', '3267,DAVID,JIMENEZ,LOZANO,2,9850,2017\\n', '8765,PEDRO,RUIZ,GUERRERO,2,9850,2017\\n', '5454,DANIEL,HERNANDEZ,CANO,3,9850,2018\\n', '3456,ALEJANDRO,DIAZ,PRIETO,2,9850,2018\\n', '3445,MARIA,MORENO,MENDEZ,1,9850,2018\\n', '9088,ALBERTO,MU\\x84OZ,CRUZ,1,9850,2017\\n', '8877,RAFAEL,ALVAREZ,FLORES,2,9850,2017\\n', '6767,FERNANDO,ROMERO,HERRERA,4,9850,2019\\n', '5654,PABLO,ALONSO,GALLEGO,1,9850,2019\\n', '4323,JORGE,GUTIERREZ,MARQUEZ,2,9850,2020\\n', '2232,RAMON,NAVARRO,LEON,1,9850,2016']\n",
            "['numero de trabajador, nombres, paterno, materno, horas extra, sueldo base, aÃ±o de ingreso\\n', '2345,CARLOS,PEREZ,CASTILLO,0,9850,2017\\n', '5754,ANGEL,GOMEZ,GARRIDO,1,9850,2020\\n', '5345,JESUS,MARTIN,SANTOS,2,9850,2016\\n', '3267,DAVID,JIMENEZ,LOZANO,2,9850,2017\\n', '8765,PEDRO,RUIZ,GUERRERO,2,9850,2017\\n', '5454,DANIEL,HERNANDEZ,CANO,3,9850,2018\\n', '3456,ALEJANDRO,DIAZ,PRIETO,2,9850,2018\\n', '3445,MARIA,MORENO,MENDEZ,1,9850,2018\\n', '9088,ALBERTO,MU\\x84OZ,CRUZ,1,9850,2017\\n', '8877,RAFAEL,ALVAREZ,FLORES,2,9850,2017\\n', '6767,FERNANDO,ROMERO,HERRERA,4,9850,2019\\n', '5654,PABLO,ALONSO,GALLEGO,1,9850,2019\\n', '4323,JORGE,GUTIERREZ,MARQUEZ,2,9850,2020\\n', '2232,RAMON,NAVARRO,LEON,1,9850,2016']\n",
            "['numero de trabajador, nombres, paterno, materno, horas extra, sueldo base, aÃ±o de ingreso\\n', '2345,CARLOS,PEREZ,CASTILLO,0,9850,2017\\n', '5754,ANGEL,GOMEZ,GARRIDO,1,9850,2020\\n', '5345,JESUS,MARTIN,SANTOS,2,9850,2016\\n', '3267,DAVID,JIMENEZ,LOZANO,2,9850,2017\\n', '8765,PEDRO,RUIZ,GUERRERO,2,9850,2017\\n', '5454,DANIEL,HERNANDEZ,CANO,3,9850,2018\\n', '3456,ALEJANDRO,DIAZ,PRIETO,2,9850,2018\\n', '3445,MARIA,MORENO,MENDEZ,1,9850,2018\\n', '9088,ALBERTO,MU\\x84OZ,CRUZ,1,9850,2017\\n', '8877,RAFAEL,ALVAREZ,FLORES,2,9850,2017\\n', '6767,FERNANDO,ROMERO,HERRERA,4,9850,2019\\n', '5654,PABLO,ALONSO,GALLEGO,1,9850,2019\\n', '4323,JORGE,GUTIERREZ,MARQUEZ,2,9850,2020\\n', '2232,RAMON,NAVARRO,LEON,1,9850,2016']\n"
          ],
          "name": "stdout"
        }
      ]
    }
  ]
}